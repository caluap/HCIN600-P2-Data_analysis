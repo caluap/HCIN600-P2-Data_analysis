{
 "cells": [
  {
   "cell_type": "code",
   "execution_count": 1,
   "metadata": {
    "scrolled": true
   },
   "outputs": [
    {
     "name": "stdout",
     "output_type": "stream",
     "text": [
      "Requirement already satisfied: trueskill in /Library/Frameworks/Python.framework/Versions/3.6/lib/python3.6/site-packages (0.4.5)\n",
      "Requirement already satisfied: six in /Library/Frameworks/Python.framework/Versions/3.6/lib/python3.6/site-packages (from trueskill) (1.15.0)\n",
      "\u001b[33mWARNING: You are using pip version 19.3.1; however, version 21.2.4 is available.\n",
      "You should consider upgrading via the 'pip install --upgrade pip' command.\u001b[0m\n"
     ]
    }
   ],
   "source": [
    "# Install a pip package in the current Jupyter kernel\n",
    "import sys\n",
    "!{sys.executable} -m pip install trueskill"
   ]
  },
  {
   "cell_type": "code",
   "execution_count": 2,
   "metadata": {
    "collapsed": true
   },
   "outputs": [],
   "source": [
    "import trueskill"
   ]
  },
  {
   "cell_type": "code",
   "execution_count": 3,
   "metadata": {
    "collapsed": true
   },
   "outputs": [],
   "source": [
    "# this is a flag to determine whether to filter results\n",
    "# by computer and information science professionals\n",
    "\n",
    "cis_filter = True\n",
    "cis_keys = [\n",
    "  'uyqyE4AvusMPYZQArTbkfmAhUhF3',\n",
    "  'uH1zIWLCtqZE0N4o7Ll72ISAJYu2',\n",
    "  'tA5qNXXDctSoqUZ3H0kAMyIoBBY2',\n",
    "  'sOAJkvVchGS7TOYds8xPgN7uJ643',\n",
    "  'lI9BilH0mUd4ziejXki7G80VBsK2',\n",
    "  'l5SLxuaczFg8yWrZYXhet9EUnp03',\n",
    "  'jgrtivnLi5dL5h3UohMTd9cVprT2',\n",
    "  'jIZRP82KEvQwSiVPKFaQM7BETUW2',\n",
    "  'irXPhc2VyyXgen8SaUSDhISQUO23',\n",
    "  'fs040kQL4KX7tyVaLaYEhueuW763',\n",
    "  'eR7J1g9KOJXapQZ33L27RG7b7gP2',\n",
    "  'bWOGKJVHxDNrJuRuaJJNimK9git2',\n",
    "  'auvrWmJMOyZtNjof8gVg6rpxInw1',\n",
    "  'WXZTBQOYfOU9U3HomAtmCvsS5FN2',\n",
    "  'UcN3qSDS2MR0rEOYDjXbAmWsew82',\n",
    "  'T4KCQEZzqYT1QXCOLc1a0hFk8IO2',\n",
    "  'SV34N6yAnzO4vZM09fGZxuKPngj1',\n",
    "  'PYYIhrM9GwSP0ps13SmT7ognSxm2',\n",
    "  'KcpJyQWpvKWr948uqvUIfhpGg7R2',\n",
    "  'KM4H3phtSdbcbd4N0L3ejpzzFTe2',\n",
    "  'Fata8XPnZmgsP1sXkOtXWKTflGn1',\n",
    "  '4ulYCyCNb5blwbRlJNTzrIx0YJE3',\n",
    "  '3PlYD1PUI9NIKrbmZ8IaY1IZTer2'\n",
    "]"
   ]
  },
  {
   "cell_type": "markdown",
   "metadata": {},
   "source": [
    "# reads evaluation data and treats it"
   ]
  },
  {
   "cell_type": "code",
   "execution_count": 4,
   "metadata": {
    "collapsed": true
   },
   "outputs": [],
   "source": [
    "import json\n",
    "\n",
    "f = open('dump.json', 'r')\n",
    "\n",
    "data = json.load(f)['official_test']\n",
    "f.close()"
   ]
  },
  {
   "cell_type": "code",
   "execution_count": 5,
   "metadata": {
    "collapsed": true
   },
   "outputs": [],
   "source": [
    "ref = ['Educational tools about the effects and causes of climate change',\n",
    "'Power aware computing',\n",
    "'Electric vehicles',\n",
    "'Turn off devices when not in use',\n",
    "'Switch to renewable energy',\n",
    "'Smart infrastructure',\n",
    "'Reducing emissions',\n",
    "'Design computers/electronics for disassembly/deconstruction',\n",
    "'Reshape our cities to be less car-dependent',\n",
    "'Implement a carbon tax',\n",
    "'Remote work',\n",
    "'Decentralized energy production and distribution systems',\n",
    "'Disincentivize meat-based diets',\n",
    "'Vote for climate-change oriented politicians',\n",
    "'Cut on consumption']"
   ]
  },
  {
   "cell_type": "markdown",
   "metadata": {},
   "source": [
    "## Captures matches' data"
   ]
  },
  {
   "cell_type": "code",
   "execution_count": 6,
   "metadata": {},
   "outputs": [
    {
     "name": "stdout",
     "output_type": "stream",
     "text": [
      "[(12, 11), (0, 6), (13, 6), (2, 11), (3, 11), (4, 13), (8, 6), (10, 13), (7, 6), (5, 6), (14, 4), (0, 2), (11, 4), (11, 14), (12, 14), (6, 3), (14, 2), (3, 7), (7, 13), (8, 11), (9, 0), (4, 6), (5, 2), (7, 12), (3, 0), (0, 10), (7, 9), (3, 2), (2, 8), (9, 13), (10, 3), (8, 6), (0, 6), (1, 12), (14, 1), (0, 9), (13, 12), (14, 5), (8, 11), (1, 13), (14, 9), (10, 13), (9, 10), (3, 13), (5, 6), (14, 8), (7, 8), (4, 8), (10, 6), (2, 6), (11, 9), (4, 13), (10, 5), (0, 5), (0, 1), (3, 12), (6, 12), (4, 10), (0, 13), (14, 12), (0, 13), (8, 2), (10, 0), (5, 7), (11, 7), (14, 12), (3, 9), (0, 7), (8, 4), (6, 2), (6, 1), (3, 5), (6, 10), (12, 11), (10, 11), (8, 5), (10, 7), (3, 7), (3, 1), (3, 13), (8, 11), (14, 4), (14, 1), (11, 13), (5, 2), (2, 13), (0, 4), (3, 11), (5, 9), (7, 1), (2, 7), (13, 3), (9, 4), (4, 11), (1, 11), (6, 12), (9, 6), (9, 5), (4, 3), (3, 8), (0, 10), (6, 11), (5, 14), (14, 12), (8, 10), (6, 10), (2, 12), (5, 8), (1, 0), (13, 0), (4, 7), (12, 10), (0, 6), (9, 8), (13, 2), (5, 7), (1, 8), (11, 12), (9, 3), (4, 2), (6, 14), (9, 13), (11, 7), (6, 4), (14, 2), (7, 12), (14, 7), (14, 13), (8, 5), (0, 13), (10, 7), (14, 5), (9, 0), (0, 5), (6, 13), (14, 0), (8, 12), (9, 4), (14, 1), (6, 3), (0, 11), (6, 12), (14, 4), (0, 2), (3, 9), (7, 1), (2, 1), (1, 12), (3, 1), (3, 10), (0, 3), (0, 9), (4, 12), (13, 14), (0, 8), (14, 7), (14, 1), (8, 12), (0, 7), (4, 10), (6, 1), (8, 9), (5, 3), (5, 13), (6, 13), (10, 9), (4, 13), (11, 4), (6, 7), (2, 7), (0, 10), (10, 1), (6, 11), (10, 11), (2, 13), (3, 9), (8, 11), (9, 11), (4, 6), (14, 12), (1, 14), (8, 14), (5, 12), (13, 9), (11, 3), (2, 4), (9, 12), (6, 2), (0, 12), (4, 11), (0, 9), (10, 3), (12, 11), (10, 0), (2, 0), (4, 5), (10, 2), (1, 12), (1, 3), (5, 11), (7, 14), (0, 3), (11, 1), (12, 8), (6, 14), (8, 5), (10, 5), (6, 8), (4, 7), (0, 4), (4, 2), (11, 3), (4, 0), (4, 11), (9, 3), (14, 0), (7, 11), (4, 9), (12, 7), (12, 2), (8, 11), (10, 7), (14, 8), (14, 12), (0, 10), (9, 10), (9, 7), (11, 5), (9, 3), (13, 10), (8, 7), (6, 10), (12, 0), (1, 11), (6, 8), (14, 5), (11, 7), (9, 2), (2, 7), (6, 11), (4, 1), (4, 2), (3, 5), (9, 11), (6, 13), (3, 2), (14, 10), (2, 14), (3, 7), (3, 0), (11, 0), (9, 12), (3, 8), (4, 14), (9, 12), (7, 12), (0, 4), (6, 12), (8, 6), (3, 12), (1, 4), (9, 0), (10, 1), (5, 14), (3, 8), (8, 13), (5, 11), (11, 9), (1, 8), (7, 6), (10, 3), (9, 8), (2, 14), (4, 13), (14, 0), (2, 9), (2, 11), (6, 13), (11, 0), (6, 11), (13, 12), (10, 14), (5, 8), (0, 3), (10, 0), (1, 3), (11, 7), (1, 7), (3, 2), (1, 4), (9, 4), (14, 10), (10, 2), (11, 13), (0, 7), (11, 0), (4, 7), (5, 13), (12, 0), (1, 6), (11, 2), (5, 9), (4, 3), (8, 10), (3, 7), (14, 1), (0, 13), (14, 12), (12, 4), (6, 9), (8, 9), (14, 13), (2, 7), (14, 12), (13, 2), (4, 8), (9, 13), (8, 5), (4, 14), (11, 12), (5, 14), (6, 4), (14, 3), (9, 4), (2, 3), (9, 11), (0, 1), (10, 12), (13, 12), (4, 5), (7, 5), (8, 0), (8, 2), (9, 8), (11, 1), (13, 0), (14, 13), (3, 12), (2, 10), (9, 14), (1, 5), (6, 10), (4, 11), (1, 14), (14, 0), (7, 13), (8, 3), (4, 5), (5, 11), (13, 12), (7, 11), (12, 7), (4, 13), (4, 2), (1, 10), (5, 3), (6, 14), (2, 5), (4, 6), (14, 10), (8, 14), (6, 7), (7, 10), (13, 9), (12, 3), (0, 10), (0, 3), (12, 0), (8, 4), (12, 8), (4, 0), (1, 0), (2, 8), (12, 14), (6, 0), (2, 10), (6, 8), (6, 2), (9, 8), (12, 10), (4, 12), (11, 5), (6, 7), (4, 5), (3, 10), (4, 14), (11, 3), (2, 1), (13, 3), (6, 10), (1, 5), (5, 0), (11, 12), (4, 0), (2, 12), (6, 11), (6, 9), (1, 10), (6, 1), (4, 1), (8, 10), (12, 0), (13, 8), (4, 10), (1, 12), (9, 10), (5, 12), (7, 10), (2, 7), (3, 10), (14, 13), (9, 0), (4, 9), (8, 10), (1, 12), (2, 9), (5, 11), (6, 8), (1, 3), (0, 13), (11, 7), (14, 0), (6, 12), (2, 11), (6, 0), (5, 13), (4, 7), (7, 0), (1, 2), (6, 3), (2, 8), (4, 12), (4, 5), (4, 8), (14, 3), (4, 11), (0, 8), (0, 3), (4, 7), (10, 11), (6, 3), (13, 14), (5, 14), (9, 14), (13, 12), (3, 14), (5, 1), (1, 12), (8, 14), (5, 8), (13, 8), (7, 10), (8, 10), (0, 7), (6, 12), (13, 2), (6, 2), (8, 11), (7, 1), (10, 14), (13, 9), (0, 9), (7, 5), (6, 11), (0, 10), (4, 3), (3, 9), (2, 9), (6, 7), (5, 1), (11, 1), (12, 0), (9, 1), (13, 0), (14, 1), (4, 1), (7, 1), (4, 6), (12, 4), (5, 13), (14, 12), (10, 4), (11, 7), (12, 10), (12, 9), (8, 0), (8, 2), (12, 3), (8, 11), (8, 7), (8, 9), (11, 5), (10, 3), (14, 8), (4, 13), (13, 1), (6, 1), (13, 12), (8, 3), (6, 2), (7, 0), (0, 12), (13, 10), (1, 0), (14, 6), (1, 4), (8, 12), (9, 13), (8, 5), (8, 11), (6, 0), (1, 10), (9, 2), (1, 5), (8, 7), (14, 10), (14, 11), (11, 12), (14, 12), (4, 13), (14, 9), (10, 11), (0, 3), (6, 8), (6, 5), (9, 12), (2, 4), (9, 12), (9, 3), (12, 13), (9, 2), (12, 10), (3, 2), (2, 12), (14, 2), (7, 8), (6, 5), (10, 8), (5, 10), (10, 1), (6, 9), (5, 11), (8, 5), (3, 14), (4, 0), (8, 4), (7, 3), (2, 8), (6, 1), (13, 8), (7, 13), (14, 12), (11, 13), (14, 6), (7, 11), (9, 8), (11, 9), (8, 1), (4, 6), (4, 3), (3, 12), (5, 0), (9, 1), (3, 1), (8, 3), (12, 7), (6, 9), (10, 13), (9, 3), (2, 1), (3, 7), (8, 14), (9, 13), (2, 13), (4, 13), (4, 5), (5, 13), (3, 13), (12, 10), (14, 10), (6, 14), (2, 12), (8, 0), (6, 1), (1, 13), (4, 12), (5, 7), (2, 8), (5, 1), (4, 8), (5, 9), (4, 2), (5, 12), (11, 14), (1, 3), (8, 12), (0, 8), (13, 2), (2, 9), (6, 13), (7, 10), (14, 8), (7, 6), (14, 1), (9, 14), (1, 12), (6, 1), (11, 9), (7, 2), (6, 3), (0, 3), (11, 4), (5, 2), (6, 4), (7, 4), (11, 6), (9, 6), (5, 11), (6, 1), (2, 10), (10, 3), (12, 0), (11, 1), (13, 3), (4, 2), (14, 7), (6, 10), (12, 7), (8, 0), (0, 11), (4, 7), (4, 9), (10, 7), (5, 7), (13, 4), (0, 10), (1, 3), (13, 12), (13, 11), (4, 10), (4, 11), (2, 5), (5, 3), (11, 3), (5, 10), (0, 14)]\n"
     ]
    }
   ],
   "source": [
    "matches = []\n",
    "\n",
    "for key in data:\n",
    "  if 'answers' in data[key]:\n",
    "\n",
    "    # are we filtering cis professionals?\n",
    "    if cis_filter and not key in cis_keys:\n",
    "      continue\n",
    "      \n",
    "    if len(data[key]['answers']) > 0:\n",
    "      for i in range(len(data[key]['answers'])):\n",
    "        answer = data[key]['answers'][i]        \n",
    "        p0 = answer['current_pair_of_indexes'][answer['selected_option_index']]\n",
    "        if answer['selected_option_index'] == 0:\n",
    "          p1 = answer['current_pair_of_indexes'][1]\n",
    "        else:\n",
    "          p1 = answer['current_pair_of_indexes'][0]\n",
    "        matches.append((p0,p1))\n",
    "        \n",
    "print(matches)"
   ]
  },
  {
   "cell_type": "markdown",
   "metadata": {},
   "source": [
    "## Sets up players"
   ]
  },
  {
   "cell_type": "code",
   "execution_count": 7,
   "metadata": {},
   "outputs": [
    {
     "name": "stdout",
     "output_type": "stream",
     "text": [
      "initial rating for Educational tools about the effects and causes of climate change: trueskill.Rating(mu=25.000, sigma=8.333)\n",
      "initial rating for Power aware computing: trueskill.Rating(mu=25.000, sigma=8.333)\n",
      "initial rating for Electric vehicles: trueskill.Rating(mu=25.000, sigma=8.333)\n",
      "initial rating for Turn off devices when not in use: trueskill.Rating(mu=25.000, sigma=8.333)\n",
      "initial rating for Switch to renewable energy: trueskill.Rating(mu=25.000, sigma=8.333)\n",
      "initial rating for Smart infrastructure: trueskill.Rating(mu=25.000, sigma=8.333)\n",
      "initial rating for Reducing emissions: trueskill.Rating(mu=25.000, sigma=8.333)\n",
      "initial rating for Design computers/electronics for disassembly/deconstruction: trueskill.Rating(mu=25.000, sigma=8.333)\n",
      "initial rating for Reshape our cities to be less car-dependent: trueskill.Rating(mu=25.000, sigma=8.333)\n",
      "initial rating for Implement a carbon tax: trueskill.Rating(mu=25.000, sigma=8.333)\n",
      "initial rating for Remote work: trueskill.Rating(mu=25.000, sigma=8.333)\n",
      "initial rating for Decentralized energy production and distribution systems: trueskill.Rating(mu=25.000, sigma=8.333)\n",
      "initial rating for Disincentivize meat-based diets: trueskill.Rating(mu=25.000, sigma=8.333)\n",
      "initial rating for Vote for climate-change oriented politicians: trueskill.Rating(mu=25.000, sigma=8.333)\n",
      "initial rating for Cut on consumption: trueskill.Rating(mu=25.000, sigma=8.333)\n"
     ]
    }
   ],
   "source": [
    "players = []\n",
    "\n",
    "for i in range(len(ref)):\n",
    "  p = trueskill.Rating()\n",
    "  print(f\"initial rating for {ref[i]}: {p}\")\n",
    "  players.append(p)"
   ]
  },
  {
   "cell_type": "markdown",
   "metadata": {},
   "source": [
    "## Matches per se"
   ]
  },
  {
   "cell_type": "code",
   "execution_count": 8,
   "metadata": {
    "collapsed": true
   },
   "outputs": [],
   "source": [
    "for i in range(len(matches)):\n",
    "  p0_i = matches[i][0]\n",
    "  p1_i = matches[i][1]\n",
    "  players[p0_i], players[p1_i] = trueskill.rate_1vs1(players[p0_i], players[p1_i])"
   ]
  },
  {
   "cell_type": "markdown",
   "metadata": {},
   "source": [
    "## Result"
   ]
  },
  {
   "cell_type": "code",
   "execution_count": 9,
   "metadata": {
    "scrolled": false
   },
   "outputs": [
    {
     "name": "stdout",
     "output_type": "stream",
     "text": [
      "final rating for ‘Educational tools about the effects and causes of climate change’: trueskill.Rating(mu=29.357, sigma=1.001)\n",
      "final rating for ‘Power aware computing’: trueskill.Rating(mu=28.108, sigma=0.940)\n",
      "final rating for ‘Electric vehicles’: trueskill.Rating(mu=26.052, sigma=0.957)\n",
      "final rating for ‘Turn off devices when not in use’: trueskill.Rating(mu=25.890, sigma=0.987)\n",
      "final rating for ‘Switch to renewable energy’: trueskill.Rating(mu=25.803, sigma=0.953)\n",
      "final rating for ‘Smart infrastructure’: trueskill.Rating(mu=25.524, sigma=0.919)\n",
      "final rating for ‘Reducing emissions’: trueskill.Rating(mu=24.911, sigma=0.977)\n",
      "final rating for ‘Design computers/electronics for disassembly/deconstruction’: trueskill.Rating(mu=24.065, sigma=0.934)\n",
      "final rating for ‘Reshape our cities to be less car-dependent’: trueskill.Rating(mu=23.954, sigma=0.972)\n",
      "final rating for ‘Implement a carbon tax’: trueskill.Rating(mu=23.860, sigma=0.942)\n",
      "final rating for ‘Remote work’: trueskill.Rating(mu=23.403, sigma=0.986)\n",
      "final rating for ‘Decentralized energy production and distribution systems’: trueskill.Rating(mu=22.746, sigma=0.976)\n",
      "final rating for ‘Disincentivize meat-based diets’: trueskill.Rating(mu=22.503, sigma=0.945)\n",
      "final rating for ‘Vote for climate-change oriented politicians’: trueskill.Rating(mu=22.480, sigma=0.950)\n",
      "final rating for ‘Cut on consumption’: trueskill.Rating(mu=21.708, sigma=0.959)\n"
     ]
    }
   ],
   "source": [
    "players.sort(key=lambda x: x.mu, reverse=True)\n",
    "\n",
    "\n",
    "# this is wrong! \n",
    "for i in range(len(players)):  \n",
    "  print(f\"final rating for ‘{ref[i]}’: {players[i]}\")"
   ]
  },
  {
   "cell_type": "markdown",
   "metadata": {},
   "source": [
    "# Shuffles results"
   ]
  },
  {
   "cell_type": "code",
   "execution_count": 10,
   "metadata": {
    "collapsed": true
   },
   "outputs": [],
   "source": [
    "def init_player_rankings(n = len(ref)):\n",
    "  temp_rankings = []\n",
    "\n",
    "  for i in range(n):\n",
    "    p = trueskill.Rating()\n",
    "    temp_rankings.append(p)\n",
    "\n",
    "  return temp_rankings"
   ]
  },
  {
   "cell_type": "code",
   "execution_count": 11,
   "metadata": {
    "collapsed": true
   },
   "outputs": [],
   "source": [
    "import random\n",
    "from statistics import stdev, mean\n",
    "\n",
    "def shuffle(data, n_players, n_shuffles=150):\n",
    "  p_list = []\n",
    "  stdevs = [[],[]]\n",
    "  \n",
    "  \n",
    "\n",
    "  for i in range(n_shuffles):\n",
    "      random.shuffle(data)\n",
    "      temp_players = init_player_rankings(n_players)\n",
    "      for j in range(len(data)):\n",
    "        p0_i = data[j][0]\n",
    "        p1_i = data[j][1]\n",
    "        temp_players[p0_i], temp_players[p1_i] = trueskill.rate_1vs1(temp_players[p0_i], temp_players[p1_i])\n",
    "\n",
    "      p_list.append(temp_players) \n",
    "\n",
    "      if i > 0:\n",
    "        temp_p = []\n",
    "\n",
    "        # calculates the std dev of each ranking so far\n",
    "        for k in range(n_players):\n",
    "          temp_p.append(stdev([p_list[j][k].mu for j in range(i+1)]))\n",
    "\n",
    "        stdevs[0].append(i)\n",
    "        stdevs[1].append(stdev(temp_p))\n",
    "\n",
    "  return p_list, stdevs\n"
   ]
  },
  {
   "cell_type": "code",
   "execution_count": 12,
   "metadata": {
    "collapsed": true,
    "scrolled": false
   },
   "outputs": [],
   "source": [
    "p_list, stdevs = shuffle(matches, len(ref), 150)\n"
   ]
  },
  {
   "cell_type": "code",
   "execution_count": 13,
   "metadata": {
    "scrolled": true
   },
   "outputs": [
    {
     "data": {
      "text/plain": [
       "<matplotlib.figure.Figure at 0x109306e80>"
      ]
     },
     "metadata": {},
     "output_type": "display_data"
    }
   ],
   "source": [
    "import matplotlib.pyplot as plt\n",
    "\n",
    "plt.plot(stdevs[0],stdevs[1])\n",
    "plt.ylabel('std dev of std devs')\n",
    "plt.xlabel('rounds')\n",
    "plt.show()"
   ]
  },
  {
   "cell_type": "code",
   "execution_count": 14,
   "metadata": {},
   "outputs": [
    {
     "name": "stdout",
     "output_type": "stream",
     "text": [
      "[25.040289183227657, 24.22620273387169, 25.19416319546752, 23.628416416118906, 28.28165451855768, 26.073065879699257, 28.862336735425274, 23.06588772226351, 26.080893632763562, 25.97614277319669, 23.180071257700423, 24.061376711691537, 21.894960765118924, 23.19830925106081, 26.78933095897189]\n",
      "[0.9166350220866858, 0.9759429742899257, 0.9739730959263709, 0.9427422116408805, 0.946529561501954, 0.9823032834539642, 0.982173950780847, 0.969725445079637, 0.9180236571609268, 0.9502381509195695, 0.9562871208710032, 0.9398957865101327, 0.9519769560464076, 0.9744210220583069, 0.9477702538226401]\n"
     ]
    }
   ],
   "source": [
    "from statistics import mean\n",
    "\n",
    "avg_mus = []\n",
    "avg_sigmas = []\n",
    "for i in range(len(ref)):\n",
    "  avg_mus.append(mean([p_list[j][i].mu for j in range(len(p_list))]))  \n",
    "  avg_sigmas.append(mean([p_list[j][i].sigma for j in range(len(p_list))]))\n",
    "  \n",
    "print(avg_mus)\n",
    "print(avg_sigmas)"
   ]
  },
  {
   "cell_type": "code",
   "execution_count": 15,
   "metadata": {},
   "outputs": [
    {
     "name": "stdout",
     "output_type": "stream",
     "text": [
      "{'strat': 'Reducing emissions', 'mu': 28.862336735425274, 'sigma': 0.982173950780847}\n",
      "{'strat': 'Switch to renewable energy', 'mu': 28.28165451855768, 'sigma': 0.946529561501954}\n",
      "{'strat': 'Cut on consumption', 'mu': 26.78933095897189, 'sigma': 0.9477702538226401}\n",
      "{'strat': 'Reshape our cities to be less car-dependent', 'mu': 26.080893632763562, 'sigma': 0.9180236571609268}\n",
      "{'strat': 'Smart infrastructure', 'mu': 26.073065879699257, 'sigma': 0.9823032834539642}\n",
      "{'strat': 'Implement a carbon tax', 'mu': 25.97614277319669, 'sigma': 0.9502381509195695}\n",
      "{'strat': 'Electric vehicles', 'mu': 25.19416319546752, 'sigma': 0.9739730959263709}\n",
      "{'strat': 'Educational tools about the effects and causes of climate change', 'mu': 25.040289183227657, 'sigma': 0.9166350220866858}\n",
      "{'strat': 'Power aware computing', 'mu': 24.22620273387169, 'sigma': 0.9759429742899257}\n",
      "{'strat': 'Decentralized energy production and distribution systems', 'mu': 24.061376711691537, 'sigma': 0.9398957865101327}\n",
      "{'strat': 'Turn off devices when not in use', 'mu': 23.628416416118906, 'sigma': 0.9427422116408805}\n",
      "{'strat': 'Vote for climate-change oriented politicians', 'mu': 23.19830925106081, 'sigma': 0.9744210220583069}\n",
      "{'strat': 'Remote work', 'mu': 23.180071257700423, 'sigma': 0.9562871208710032}\n",
      "{'strat': 'Design computers/electronics for disassembly/deconstruction', 'mu': 23.06588772226351, 'sigma': 0.969725445079637}\n",
      "{'strat': 'Disincentivize meat-based diets', 'mu': 21.894960765118924, 'sigma': 0.9519769560464076}\n"
     ]
    }
   ],
   "source": [
    "rebuilt_ranking = []\n",
    "for i in range(len(ref)):\n",
    "  rebuilt_ranking.append({\n",
    "      'strat': ref[i],\n",
    "      'mu': avg_mus[i],\n",
    "      'sigma': avg_sigmas[i]\n",
    "    })\n",
    "\n",
    "rebuilt_ranking.sort(key=lambda x: x['mu'], reverse=True)\n",
    "for i in range(len(ref)):\n",
    "  print(rebuilt_ranking[i])\n"
   ]
  },
  {
   "cell_type": "markdown",
   "metadata": {},
   "source": [
    "# Saves rankings to file"
   ]
  },
  {
   "cell_type": "code",
   "execution_count": 16,
   "metadata": {
    "collapsed": true
   },
   "outputs": [],
   "source": [
    "path = 'rankings.json'\n",
    "if cis_filter:\n",
    "  path = 'rankings_cis.json'\n",
    "\n",
    "with open(path, 'w') as outfile:\n",
    "    json.dump(rebuilt_ranking, outfile)"
   ]
  },
  {
   "cell_type": "markdown",
   "metadata": {},
   "source": [
    "# Actor-based analysis"
   ]
  },
  {
   "cell_type": "code",
   "execution_count": 17,
   "metadata": {
    "collapsed": true
   },
   "outputs": [],
   "source": [
    "ref_actors = [\n",
    "  'Researchers and companies',\n",
    "  'Governments',\n",
    "  'People'\n",
    "]\n",
    "\n",
    "actor_translation = {\n",
    "'Reducing emissions': 'Researchers and companies',\n",
    "'Switch to renewable energy': 'Governments',\n",
    "'Smart infrastructure': 'Governments',\n",
    "'Reshape our cities to be less car-dependent': 'Governments',\n",
    "'Implement a carbon tax': 'Governments',\n",
    "'Cut on consumption': 'People',\n",
    "'Electric vehicles': 'Governments',\n",
    "'Educational tools about the effects and causes of climate change': 'Researchers and companies',\n",
    "'Decentralized energy production and distribution systems': 'Governments',\n",
    "'Design computers/electronics for disassembly/deconstruction': 'Researchers and companies',\n",
    "'Remote work': 'Researchers and companies',\n",
    "'Turn off devices when not in use': 'People',\n",
    "'Power aware computing': 'Researchers and companies',\n",
    "'Vote for climate-change oriented politicians': 'People',\n",
    "'Disincentivize meat-based diets': 'People'\n",
    "}"
   ]
  },
  {
   "cell_type": "code",
   "execution_count": 18,
   "metadata": {},
   "outputs": [
    {
     "name": "stdout",
     "output_type": "stream",
     "text": [
      "initial rating for Researchers and companies: trueskill.Rating(mu=25.000, sigma=8.333)\n",
      "initial rating for Governments: trueskill.Rating(mu=25.000, sigma=8.333)\n",
      "initial rating for People: trueskill.Rating(mu=25.000, sigma=8.333)\n"
     ]
    }
   ],
   "source": [
    "actor_players = []\n",
    "\n",
    "for i in range(len(ref_actors)):\n",
    "  p = trueskill.Rating()\n",
    "  print(f\"initial rating for {ref_actors[i]}: {p}\")\n",
    "  actor_players.append(p)"
   ]
  },
  {
   "cell_type": "code",
   "execution_count": 19,
   "metadata": {
    "collapsed": true
   },
   "outputs": [],
   "source": [
    "# creates a list of “translated” matches\n",
    "\n",
    "translated_matches = []\n",
    "for i in range(len(matches)):\n",
    "  p0_i = ref_actors.index(actor_translation[ref[matches[i][0]]])\n",
    "  p1_i = ref_actors.index(actor_translation[ref[matches[i][1]]])\n",
    "  translated_matches.append([p0_i,p1_i])"
   ]
  },
  {
   "cell_type": "code",
   "execution_count": 20,
   "metadata": {
    "collapsed": true
   },
   "outputs": [],
   "source": [
    "for i in range(len(translated_matches)):\n",
    "  p0_i = translated_matches[i][0]\n",
    "  p1_i = translated_matches[i][1]\n",
    "  \n",
    "  actor_players[p0_i], actor_players[p1_i] = trueskill.rate_1vs1(actor_players[p0_i], actor_players[p1_i])"
   ]
  },
  {
   "cell_type": "code",
   "execution_count": 21,
   "metadata": {},
   "outputs": [
    {
     "name": "stdout",
     "output_type": "stream",
     "text": [
      "Researchers and companies - 12.525756022488594 - 0.7793424002122736\n",
      "Governments - 12.942969350702832 - 0.7793543931870699\n",
      "People - 12.58268317364206 - 0.7800802008403849\n"
     ]
    }
   ],
   "source": [
    "for i in range(len(ref_actors)):\n",
    "  print(f\"{ref_actors[i]} - {actor_players[i].mu} - {actor_players[i].sigma}\")"
   ]
  },
  {
   "cell_type": "code",
   "execution_count": 22,
   "metadata": {
    "collapsed": true
   },
   "outputs": [],
   "source": [
    "p_list_actors, stdevs_actors = shuffle(translated_matches, len(actor_players), 150)"
   ]
  },
  {
   "cell_type": "code",
   "execution_count": 23,
   "metadata": {},
   "outputs": [
    {
     "data": {
      "image/png": "[encoded data removed]",
      "text/plain": [
       "<matplotlib.figure.Figure at 0x11d2a4d68>"
      ]
     },
     "metadata": {},
     "output_type": "display_data"
    }
   ],
   "source": [
    "plt.plot(stdevs_actors[0],stdevs_actors[1])\n",
    "plt.ylabel('std dev of std devs')\n",
    "plt.xlabel('rounds')\n",
    "plt.show()"
   ]
  },
  {
   "cell_type": "code",
   "execution_count": 24,
   "metadata": {},
   "outputs": [
    {
     "name": "stdout",
     "output_type": "stream",
     "text": [
      "{'strat': 'Governments', 'mu': 10.280307276817235, 'sigma': 0.7799719342911499}\n",
      "{'strat': 'Researchers and companies', 'mu': 9.924042257273888, 'sigma': 0.7796129930816615}\n",
      "{'strat': 'People', 'mu': 9.523954179593403, 'sigma': 0.7811249014844235}\n"
     ]
    }
   ],
   "source": [
    "avg_mus_actors = []\n",
    "avg_sigmas_actors = []\n",
    "\n",
    "for i in range(len(ref_actors)):\n",
    "  avg_mus_actors.append(mean([p_list_actors[j][i].mu for j in range(len(p_list_actors))]))  \n",
    "  avg_sigmas_actors.append(mean([p_list_actors[j][i].sigma for j in range(len(p_list_actors))]))\n",
    "  \n",
    "  \n",
    "\n",
    "rebuilt_actors_ranking = []\n",
    "for i in range(len(ref_actors)):\n",
    "  rebuilt_actors_ranking.append({\n",
    "      'strat': ref_actors[i],\n",
    "      'mu': avg_mus_actors[i],\n",
    "      'sigma': avg_sigmas_actors[i]\n",
    "    })\n",
    "\n",
    "rebuilt_actors_ranking.sort(key=lambda x: x['mu'], reverse=True)\n",
    "for i in range(len(ref_actors)):\n",
    "  print(rebuilt_actors_ranking[i])\n",
    "\n",
    "  \n",
    "path = 'rankings_actors.json'\n",
    "if cis_filter:\n",
    "  path = 'rankings_cis_actors.json'  \n",
    "  \n",
    "with open(path, 'w') as outfile:\n",
    "  json.dump(rebuilt_actors_ranking, outfile)"
   ]
  }
 ],
 "metadata": {
  "kernelspec": {
   "display_name": "Python 3",
   "language": "python",
   "name": "python3"
  },
  "language_info": {
   "codemirror_mode": {
    "name": "ipython",
    "version": 3
   },
   "file_extension": ".py",
   "mimetype": "text/x-python",
   "name": "python",
   "nbconvert_exporter": "python",
   "pygments_lexer": "ipython3",
   "version": "3.6.2"
  }
 },
 "nbformat": 4,
 "nbformat_minor": 2
}
