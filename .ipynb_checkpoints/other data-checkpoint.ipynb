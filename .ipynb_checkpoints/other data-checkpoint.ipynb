{
 "cells": [
  {
   "cell_type": "code",
   "execution_count": 1,
   "metadata": {
    "collapsed": true
   },
   "outputs": [],
   "source": [
    "causes = [\n",
    "  \"Greenhouse gas emissions from coal-fired power plants\", \n",
    "  \"Greenhouse gas emissions from transportation and automobiles\",\n",
    "  \"Felling of trees in primary forests to release greenhouse gases stored in forests\",\n",
    "  \"Normal human activities, such as household energy use, meat consumption, etc.\",\n",
    "  \"This is a natural phenomenon that happens naturally\",\n",
    "  \"Other causes not listed\"\n",
    "]"
   ]
  },
  {
   "cell_type": "code",
   "execution_count": 2,
   "metadata": {
    "collapsed": true
   },
   "outputs": [],
   "source": [
    "likert = [\n",
    "  \"Strongly disagree\",\n",
    "  \"Disagree\",\n",
    "  \"Neutral\",\n",
    "  \"Agree\",\n",
    "  \"Strongly agree\"\n",
    "]"
   ]
  },
  {
   "cell_type": "code",
   "execution_count": 3,
   "metadata": {
    "collapsed": true
   },
   "outputs": [],
   "source": [
    "import json\n",
    "\n",
    "f = open('dump.json', 'r')\n",
    "\n",
    "data = json.load(f)['official_test']\n",
    "f.close()"
   ]
  },
  {
   "cell_type": "code",
   "execution_count": 4,
   "metadata": {
    "collapsed": true
   },
   "outputs": [],
   "source": [
    "def print_scale(d, scale):\n",
    "  for i in range(len(scale)):\n",
    "    if str(i+1) in d:\n",
    "      print(f\"{scale[i]}: {d[str(i+1)]}\")\n",
    "    else:\n",
    "      print(f\"{scale[i]}: 0\")"
   ]
  },
  {
   "cell_type": "code",
   "execution_count": 5,
   "metadata": {
    "collapsed": true
   },
   "outputs": [],
   "source": [
    "def count_frequency(my_list):\n",
    "  freq = {}\n",
    "\n",
    "  for item in my_list:\n",
    "      if item in freq:\n",
    "          freq[item] += 1\n",
    "      else:\n",
    "          freq[item] = 1\n",
    "\n",
    "  return freq"
   ]
  },
  {
   "cell_type": "markdown",
   "metadata": {},
   "source": [
    "# Occupation"
   ]
  },
  {
   "cell_type": "code",
   "execution_count": 6,
   "metadata": {},
   "outputs": [
    {
     "name": "stdout",
     "output_type": "stream",
     "text": [
      "['interpreter', 'Engineer ', 'Software Engineer ', 'Freelancer', 'Salesperson', 'Student ', 'Product Designer', 'Cybersecurity Engineer', 'Student ', 'IT coordinator', 'Student', 'Student ']\n"
     ]
    }
   ],
   "source": [
    "oc = []\n",
    "for p in data:\n",
    "  if 'general_data' in data[p]:\n",
    "    temp = data[p]['general_data']['about_the_participant']\n",
    "    \n",
    "    # dumb caluã had a typo in the code and now i can't change these documents @ firebase that\n",
    "    # have inconsistent single “c” in the name... and it's not all of them, so....    \n",
    "    if 'ocupation' in temp:\n",
    "      key = 'ocupation'\n",
    "    else:\n",
    "      key = 'occupation'\n",
    "\n",
    "    if temp[key]:\n",
    "      oc.append(temp[key])\n",
    "      \n",
    "print(oc)"
   ]
  },
  {
   "cell_type": "markdown",
   "metadata": {},
   "source": [
    "# Field of study"
   ]
  },
  {
   "cell_type": "code",
   "execution_count": 7,
   "metadata": {},
   "outputs": [
    {
     "name": "stdout",
     "output_type": "stream",
     "text": [
      "['n/a', 'Computer science ', 'Computer Science ', 'Information Management', 'Foreign Language and Literature', 'Computational Fluid Dynamics ', 'HCI', 'Computer science, Cybersecurity', 'Business analytics ', 'Information Managemrnt', 'Human-Computer Interation', 'Robotics']\n"
     ]
    }
   ],
   "source": [
    "fs = []\n",
    "for p in data:\n",
    "  if 'general_data' in data[p]:\n",
    "    temp = data[p]['general_data']['about_the_participant']['field_of_study']\n",
    "    if temp:\n",
    "      fs.append(temp)\n",
    "      \n",
    "print(fs)"
   ]
  },
  {
   "cell_type": "markdown",
   "metadata": {},
   "source": [
    "# Education"
   ]
  },
  {
   "cell_type": "code",
   "execution_count": 8,
   "metadata": {},
   "outputs": [
    {
     "name": "stdout",
     "output_type": "stream",
     "text": [
      "{'Bachelor’s or equivalent level': 6, 'Master’s or equivalent level': 6, '碩士或同等水平': 1}\n"
     ]
    }
   ],
   "source": [
    "ed = []\n",
    "for p in data:\n",
    "  if 'general_data' in data[p]:\n",
    "    temp = data[p]['general_data']['about_the_participant']['education']\n",
    "    if temp:\n",
    "      ed.append(temp)\n",
    "      \n",
    "fr_ed = count_frequency(ed)\n",
    "print(fr_ed)"
   ]
  },
  {
   "cell_type": "markdown",
   "metadata": {},
   "source": [
    "# Ages"
   ]
  },
  {
   "cell_type": "code",
   "execution_count": 9,
   "metadata": {},
   "outputs": [
    {
     "name": "stdout",
     "output_type": "stream",
     "text": [
      "{'Bachelor’s or equivalent level': 6, 'Master’s or equivalent level': 6, '碩士或同等水平': 1}\n"
     ]
    }
   ],
   "source": [
    "ag = []\n",
    "for p in data:\n",
    "  if 'general_data' in data[p]:\n",
    "    temp = data[p]['general_data']['about_the_participant']['age_group']\n",
    "    if temp:\n",
    "      ag.append(temp)\n",
    "      \n",
    "fr_ag = count_frequency(ag)\n",
    "print(fr_ed)"
   ]
  },
  {
   "cell_type": "markdown",
   "metadata": {},
   "source": [
    "# Gender"
   ]
  },
  {
   "cell_type": "code",
   "execution_count": 10,
   "metadata": {},
   "outputs": [
    {
     "name": "stdout",
     "output_type": "stream",
     "text": [
      "{'Feminine': 6, 'Masculine': 5, 'I’d rather not answer this': 1, '男性': 1}\n"
     ]
    }
   ],
   "source": [
    "ge = []\n",
    "for p in data:\n",
    "  if 'general_data' in data[p]:\n",
    "    temp = data[p]['general_data']['about_the_participant']['gender']\n",
    "    if temp:\n",
    "      ge.append(temp)\n",
    "      \n",
    "fr_ge = count_frequency(ge)\n",
    "print(fr_ge)"
   ]
  },
  {
   "cell_type": "markdown",
   "metadata": {},
   "source": [
    "# Do you agree that climate change is an important issue?"
   ]
  },
  {
   "cell_type": "code",
   "execution_count": 11,
   "metadata": {},
   "outputs": [
    {
     "name": "stdout",
     "output_type": "stream",
     "text": [
      "Strongly disagree: 0\n",
      "Disagree: 1\n",
      "Neutral: 0\n",
      "Agree: 5\n",
      "Strongly agree: 7\n"
     ]
    }
   ],
   "source": [
    "imp = []\n",
    "for p in data:\n",
    "  if 'general_data' in data[p]:\n",
    "    temp = data[p]['general_data']['about_the_participant']\n",
    "    if 'is_it_an_important_issue' in temp:\n",
    "      temp = temp['is_it_an_important_issue']\n",
    "      if temp:\n",
    "        imp.append(temp)\n",
    "      \n",
    "fr_imp = count_frequency(imp)\n",
    "print_scale(fr_imp, likert)"
   ]
  },
  {
   "cell_type": "markdown",
   "metadata": {},
   "source": [
    "# Do you agree that climate change will have negative effects on future          generations?"
   ]
  },
  {
   "cell_type": "code",
   "execution_count": 12,
   "metadata": {},
   "outputs": [
    {
     "name": "stdout",
     "output_type": "stream",
     "text": [
      "Strongly disagree: 1\n",
      "Disagree: 0\n",
      "Neutral: 0\n",
      "Agree: 6\n",
      "Strongly agree: 6\n"
     ]
    }
   ],
   "source": [
    "fut = []\n",
    "for p in data:\n",
    "  if 'general_data' in data[p]:\n",
    "    temp = data[p]['general_data']['about_the_participant']\n",
    "    if 'will_it_affect_future_generations' in temp:\n",
    "      temp = temp['will_it_affect_future_generations']\n",
    "      if temp:\n",
    "        fut.append(temp)\n",
    "      \n",
    "fr_fut = count_frequency(fut)\n",
    "print_scale(fr_fut, likert)"
   ]
  },
  {
   "cell_type": "markdown",
   "metadata": {},
   "source": [
    "# What do you think is the main cause of climate change?"
   ]
  },
  {
   "cell_type": "code",
   "execution_count": 13,
   "metadata": {},
   "outputs": [
    {
     "name": "stdout",
     "output_type": "stream",
     "text": [
      "Greenhouse gas emissions from coal-fired power plants: 6\n",
      "Greenhouse gas emissions from transportation and automobiles: 0\n",
      "Felling of trees in primary forests to release greenhouse gases stored in forests: 0\n",
      "Normal human activities, such as household energy use, meat consumption, etc.: 4\n",
      "This is a natural phenomenon that happens naturally: 2\n",
      "Other causes not listed: 1\n"
     ]
    }
   ],
   "source": [
    "cau = []\n",
    "for p in data:\n",
    "  if 'general_data' in data[p]:\n",
    "    temp = data[p]['general_data']['about_the_participant']\n",
    "    if 'what_is_it_main_cause' in temp:\n",
    "      temp = temp['what_is_it_main_cause']\n",
    "      if temp:\n",
    "        cau.append(temp)\n",
    "      \n",
    "fr_cau = count_frequency(cau)\n",
    "print_scale(fr_cau, causes)"
   ]
  },
  {
   "cell_type": "markdown",
   "metadata": {},
   "source": [
    "# What do you think is the best mitigation strategy to reduce the effects of climate change?"
   ]
  },
  {
   "cell_type": "code",
   "execution_count": 14,
   "metadata": {},
   "outputs": [
    {
     "name": "stdout",
     "output_type": "stream",
     "text": [
      "limit emissions of factories and industrial buildings\n",
      "\n",
      "Humans all dies. \n",
      "\n",
      "No worries on the climate change, but it’s good to stop ac\n",
      "\n",
      "Decrease greenhouse gas emissions from industrial activities\n",
      "\n",
      "Completely shifting our energy needs from Fossil fuels to Renewables, and reforestation.\n",
      "\n",
      "Of course we can all do our part on an every day basis, and we should, but organizations (companies, governments, etc) need to change the way they produce and ship products since they are doing it on mass, causing the largest effects on the climate over time. I think this needs to be a legal change, I don't think businesses will do it without it being a law. On a personal level I think recycling (coming up with better recycling programs), composting, buying less, driving less, and eating less meat would generally be some things we should all do if we aren't already. \n",
      "\n",
      "Using renewable energy, higher energy conversion efficiency technology.\n",
      "\n",
      "To change reliance to more renewable sources of energy and to find carbon neutral waste management mechanisms \n",
      "\n",
      "expand the usage of eco-friendly furniture and vehicles.\n",
      "\n",
      "Afforestation, use of catalytic concepts, renewable energy, nuclear energy\n",
      "\n"
     ]
    }
   ],
   "source": [
    "mit = []\n",
    "for p in data:\n",
    "  if 'general_data' in data[p]:\n",
    "    temp = data[p]['general_data']['about_the_participant']\n",
    "    if 'suggested_strategies' in temp:\n",
    "      temp = temp['suggested_strategies']\n",
    "      if temp:\n",
    "        mit.append(temp)\n",
    "      \n",
    "for i in range(len(mit)):\n",
    "  print(f\"{mit[i]}\\n\")"
   ]
  },
  {
   "cell_type": "markdown",
   "metadata": {},
   "source": [
    "# Open-ended comments at the end"
   ]
  },
  {
   "cell_type": "code",
   "execution_count": 15,
   "metadata": {
    "collapsed": true
   },
   "outputs": [],
   "source": [
    "ope = []\n",
    "for p in data:\n",
    "  if 'general_data' in data[p]:\n",
    "    temp = data[p]['general_data']['open_ended_answer']\n",
    "    if temp:\n",
    "      ope.append(temp)\n",
    "      \n",
    "for i in range(len(ope)):\n",
    "  print(f\"{ope[i]}\\n\")"
   ]
  }
 ],
 "metadata": {
  "kernelspec": {
   "display_name": "Python 3",
   "language": "python",
   "name": "python3"
  },
  "language_info": {
   "codemirror_mode": {
    "name": "ipython",
    "version": 3
   },
   "file_extension": ".py",
   "mimetype": "text/x-python",
   "name": "python",
   "nbconvert_exporter": "python",
   "pygments_lexer": "ipython3",
   "version": "3.6.2"
  }
 },
 "nbformat": 4,
 "nbformat_minor": 2
}
