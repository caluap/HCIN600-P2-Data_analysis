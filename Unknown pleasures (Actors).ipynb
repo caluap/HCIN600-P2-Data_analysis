{
 "cells": [
  {
   "cell_type": "code",
   "execution_count": 1,
   "metadata": {
    "collapsed": true
   },
   "outputs": [],
   "source": [
    "import json\n",
    "\n",
    "cis_filter = False\n",
    "\n",
    "if cis_filter:\n",
    "  f = open('rankings_cis_actors.json', 'r')\n",
    "else:\n",
    "  f = open('rankings_actors.json', 'r')\n",
    "\n",
    "original_data = json.load(f)\n",
    "f.close()"
   ]
  },
  {
   "cell_type": "code",
   "execution_count": 2,
   "metadata": {
    "collapsed": true
   },
   "outputs": [],
   "source": [
    "import pandas as pd\n",
    "import matplotlib.pyplot as plt\n",
    "import joypy"
   ]
  },
  {
   "cell_type": "code",
   "execution_count": 3,
   "metadata": {},
   "outputs": [
    {
     "name": "stdout",
     "output_type": "stream",
     "text": [
      "[{'strat': 'Governments', 'mu': 3.9856940949179642, 'sigma': 0.7820039157470787}, {'strat': 'Researchers and companies', 'mu': 3.057903834351394, 'sigma': 0.7804346050168929}, {'strat': 'People', 'mu': 2.5651698346657708, 'sigma': 0.7823522713771596}]\n"
     ]
    }
   ],
   "source": [
    "print(original_data)"
   ]
  },
  {
   "cell_type": "code",
   "execution_count": 4,
   "metadata": {
    "collapsed": true
   },
   "outputs": [],
   "source": [
    "import scipy.stats as stats\n",
    "\n",
    "def norm(mu, sigma, n = 1000):\n",
    "  a = mu - 3*sigma\n",
    "  b = mu + 3*sigma\n",
    "  dist = stats.truncnorm((a - mu) / sigma, (b - mu) / sigma, loc=mu, scale=sigma)\n",
    "  return dist.rvs(n)"
   ]
  },
  {
   "cell_type": "code",
   "execution_count": 5,
   "metadata": {},
   "outputs": [
    {
     "name": "stdout",
     "output_type": "stream",
     "text": [
      "                  Actor     Value\n",
      "0       01. Governments  2.780378\n",
      "1       01. Governments  2.996364\n",
      "2       01. Governments  3.815928\n",
      "3       01. Governments  5.023280\n",
      "4       01. Governments  3.955679\n",
      "5       01. Governments  3.826491\n",
      "6       01. Governments  4.129480\n",
      "7       01. Governments  3.545305\n",
      "8       01. Governments  3.727726\n",
      "9       01. Governments  3.435257\n",
      "10      01. Governments  4.519639\n",
      "11      01. Governments  3.701989\n",
      "12      01. Governments  3.488416\n",
      "13      01. Governments  4.532056\n",
      "14      01. Governments  3.692056\n",
      "15      01. Governments  2.932277\n",
      "16      01. Governments  4.867838\n",
      "17      01. Governments  3.620904\n",
      "18      01. Governments  4.315391\n",
      "19      01. Governments  3.819196\n",
      "20      01. Governments  4.995059\n",
      "21      01. Governments  3.963127\n",
      "22      01. Governments  5.383105\n",
      "23      01. Governments  4.702636\n",
      "24      01. Governments  3.281976\n",
      "25      01. Governments  3.703561\n",
      "26      01. Governments  3.909828\n",
      "27      01. Governments  4.344505\n",
      "28      01. Governments  4.417648\n",
      "29      01. Governments  3.889250\n",
      "...                 ...       ...\n",
      "299970       03. People  2.866184\n",
      "299971       03. People  1.414061\n",
      "299972       03. People  2.797732\n",
      "299973       03. People  1.862316\n",
      "299974       03. People  2.675696\n",
      "299975       03. People  3.070228\n",
      "299976       03. People  0.668817\n",
      "299977       03. People  2.428748\n",
      "299978       03. People  2.891806\n",
      "299979       03. People  2.898828\n",
      "299980       03. People  2.421135\n",
      "299981       03. People  2.671136\n",
      "299982       03. People  3.305868\n",
      "299983       03. People  2.810359\n",
      "299984       03. People  2.563632\n",
      "299985       03. People  1.873573\n",
      "299986       03. People  2.084837\n",
      "299987       03. People  1.727062\n",
      "299988       03. People  1.436107\n",
      "299989       03. People  2.561508\n",
      "299990       03. People  1.711904\n",
      "299991       03. People  2.364930\n",
      "299992       03. People  3.704470\n",
      "299993       03. People  2.585442\n",
      "299994       03. People  2.470045\n",
      "299995       03. People  1.785068\n",
      "299996       03. People  2.557851\n",
      "299997       03. People  1.976487\n",
      "299998       03. People  3.003621\n",
      "299999       03. People  3.638921\n",
      "\n",
      "[300000 rows x 2 columns]\n"
     ]
    }
   ],
   "source": [
    "# created the basic data structure that will be plotted\n",
    "\n",
    "\n",
    "\n",
    "data = []\n",
    "for i in range(len(original_data)):\n",
    "  d = original_data[i]\n",
    "  n = 100000\n",
    "  values = norm(d['mu'], d['sigma'], n)  \n",
    "  strat = str(i+1).zfill(2) + '. ' + d['strat']\n",
    "  for j in range(n):\n",
    "    data.append([strat, values[j]])\n",
    "    \n",
    "df = pd.DataFrame(data, columns=['Actor', 'Value'])\n",
    "print(df)"
   ]
  },
  {
   "cell_type": "code",
   "execution_count": 6,
   "metadata": {},
   "outputs": [
    {
     "data": {
      "image/png": "[encoded data removed]",
      "text/plain": [
       "<matplotlib.figure.Figure at 0x11ff8c390>"
      ]
     },
     "metadata": {},
     "output_type": "display_data"
    }
   ],
   "source": [
    "%matplotlib inline\n",
    "\n",
    "fig, axes = joypy.joyplot(df, by=\"Actor\",figsize=(8,3))"
   ]
  }
 ],
 "metadata": {
  "kernelspec": {
   "display_name": "Python 3",
   "language": "python",
   "name": "python3"
  },
  "language_info": {
   "codemirror_mode": {
    "name": "ipython",
    "version": 3
   },
   "file_extension": ".py",
   "mimetype": "text/x-python",
   "name": "python",
   "nbconvert_exporter": "python",
   "pygments_lexer": "ipython3",
   "version": "3.6.2"
  }
 },
 "nbformat": 4,
 "nbformat_minor": 2
}
