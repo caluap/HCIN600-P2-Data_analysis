{
 "cells": [
  {
   "cell_type": "code",
   "execution_count": 1,
   "metadata": {
    "collapsed": true
   },
   "outputs": [],
   "source": [
    "import json\n",
    "\n",
    "cis_filter = False\n",
    "\n",
    "if cis_filter:\n",
    "  f = open('rankings_cis_actors.json', 'r')\n",
    "else:\n",
    "  f = open('rankings_actors.json', 'r')\n",
    "\n",
    "original_data = json.load(f)\n",
    "f.close()"
   ]
  },
  {
   "cell_type": "code",
   "execution_count": 2,
   "metadata": {
    "collapsed": true
   },
   "outputs": [],
   "source": [
    "import pandas as pd\n",
    "import matplotlib.pyplot as plt\n",
    "import joypy"
   ]
  },
  {
   "cell_type": "code",
   "execution_count": 3,
   "metadata": {},
   "outputs": [
    {
     "name": "stdout",
     "output_type": "stream",
     "text": [
      "[{'strat': 'Governments', 'mu': 3.9856940949179642, 'sigma': 0.7820039157470787}, {'strat': 'Researchers and companies', 'mu': 3.057903834351394, 'sigma': 0.7804346050168929}, {'strat': 'People', 'mu': 2.5651698346657708, 'sigma': 0.7823522713771596}]\n"
     ]
    }
   ],
   "source": [
    "print(original_data)"
   ]
  },
  {
   "cell_type": "code",
   "execution_count": 4,
   "metadata": {
    "collapsed": true
   },
   "outputs": [],
   "source": [
    "import scipy.stats as stats\n",
    "\n",
    "def norm(mu, sigma, n = 1000):\n",
    "  a = mu - 3*sigma\n",
    "  b = mu + 3*sigma\n",
    "  dist = stats.truncnorm((a - mu) / sigma, (b - mu) / sigma, loc=mu, scale=sigma)\n",
    "  return dist.rvs(n)"
   ]
  },
  {
   "cell_type": "code",
   "execution_count": 5,
   "metadata": {},
   "outputs": [
    {
     "name": "stdout",
     "output_type": "stream",
     "text": [
      "                  Actor     Value\n",
      "0       01. Governments  3.243109\n",
      "1       01. Governments  3.858800\n",
      "2       01. Governments  4.673523\n",
      "3       01. Governments  4.676657\n",
      "4       01. Governments  3.477060\n",
      "5       01. Governments  3.884129\n",
      "6       01. Governments  5.316878\n",
      "7       01. Governments  4.772714\n",
      "8       01. Governments  2.780287\n",
      "9       01. Governments  3.173761\n",
      "10      01. Governments  4.118329\n",
      "11      01. Governments  4.528842\n",
      "12      01. Governments  3.034660\n",
      "13      01. Governments  3.574974\n",
      "14      01. Governments  4.366171\n",
      "15      01. Governments  3.284431\n",
      "16      01. Governments  4.819262\n",
      "17      01. Governments  3.165791\n",
      "18      01. Governments  5.595862\n",
      "19      01. Governments  2.799828\n",
      "20      01. Governments  3.582005\n",
      "21      01. Governments  4.886545\n",
      "22      01. Governments  3.364893\n",
      "23      01. Governments  4.733762\n",
      "24      01. Governments  2.271059\n",
      "25      01. Governments  2.865996\n",
      "26      01. Governments  3.963776\n",
      "27      01. Governments  3.528975\n",
      "28      01. Governments  5.140847\n",
      "29      01. Governments  4.338444\n",
      "...                 ...       ...\n",
      "299970       03. People  2.850478\n",
      "299971       03. People  2.014054\n",
      "299972       03. People  2.088670\n",
      "299973       03. People  1.501437\n",
      "299974       03. People  3.007679\n",
      "299975       03. People  1.981571\n",
      "299976       03. People  3.230371\n",
      "299977       03. People  3.722048\n",
      "299978       03. People  2.622603\n",
      "299979       03. People  2.350558\n",
      "299980       03. People  2.706568\n",
      "299981       03. People  1.350648\n",
      "299982       03. People  2.435049\n",
      "299983       03. People  1.851813\n",
      "299984       03. People  1.972914\n",
      "299985       03. People  1.797424\n",
      "299986       03. People  3.197502\n",
      "299987       03. People  3.172132\n",
      "299988       03. People  1.334095\n",
      "299989       03. People  1.454669\n",
      "299990       03. People  2.128903\n",
      "299991       03. People  3.250833\n",
      "299992       03. People  2.350233\n",
      "299993       03. People  2.282472\n",
      "299994       03. People  3.404257\n",
      "299995       03. People  2.482203\n",
      "299996       03. People  1.415153\n",
      "299997       03. People  3.569059\n",
      "299998       03. People  1.437150\n",
      "299999       03. People  2.561043\n",
      "\n",
      "[300000 rows x 2 columns]\n"
     ]
    }
   ],
   "source": [
    "# created the basic data structure that will be plotted\n",
    "\n",
    "\n",
    "\n",
    "data = []\n",
    "for i in range(len(original_data)):\n",
    "  d = original_data[i]\n",
    "  n = 100000\n",
    "  values = norm(d['mu'], d['sigma'], n)  \n",
    "  strat = str(i+1).zfill(2) + '. ' + d['strat']\n",
    "  for j in range(n):\n",
    "    data.append([strat, values[j]])\n",
    "    \n",
    "df = pd.DataFrame(data, columns=['Actor', 'Value'])\n",
    "print(df)"
   ]
  },
  {
   "cell_type": "code",
   "execution_count": 6,
   "metadata": {},
   "outputs": [
    {
     "data": {
      "image/png": "[encoded data removed]",
      "text/plain": [
       "<matplotlib.figure.Figure at 0x11ff7e860>"
      ]
     },
     "metadata": {},
     "output_type": "display_data"
    }
   ],
   "source": [
    "%matplotlib inline\n",
    "\n",
    "fig, axes = joypy.joyplot(df, by=\"Actor\",figsize=(8,3))"
   ]
  }
 ],
 "metadata": {
  "kernelspec": {
   "display_name": "Python 3",
   "language": "python",
   "name": "python3"
  },
  "language_info": {
   "codemirror_mode": {
    "name": "ipython",
    "version": 3
   },
   "file_extension": ".py",
   "mimetype": "text/x-python",
   "name": "python",
   "nbconvert_exporter": "python",
   "pygments_lexer": "ipython3",
   "version": "3.6.2"
  }
 },
 "nbformat": 4,
 "nbformat_minor": 2
}
