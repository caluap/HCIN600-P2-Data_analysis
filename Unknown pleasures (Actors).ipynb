{
 "cells": [
  {
   "cell_type": "code",
   "execution_count": 1,
   "metadata": {
    "collapsed": true
   },
   "outputs": [],
   "source": [
    "import json\n",
    "\n",
    "f = open('rankings_actors.json', 'r')\n",
    "\n",
    "original_data = json.load(f)\n",
    "f.close()"
   ]
  },
  {
   "cell_type": "code",
   "execution_count": 2,
   "metadata": {
    "collapsed": true
   },
   "outputs": [],
   "source": [
    "import pandas as pd\n",
    "import matplotlib.pyplot as plt\n",
    "import joypy"
   ]
  },
  {
   "cell_type": "code",
   "execution_count": 3,
   "metadata": {},
   "outputs": [
    {
     "name": "stdout",
     "output_type": "stream",
     "text": [
      "[{'strat': 'Governments', 'mu': 6.415049231351906, 'sigma': 0.7814640506849777}, {'strat': 'Researchers and companies', 'mu': 5.763494090494625, 'sigma': 0.7799620626780065}, {'strat': 'People', 'mu': 5.056768383571668, 'sigma': 0.7822047714900999}]\n"
     ]
    }
   ],
   "source": [
    "print(original_data)"
   ]
  },
  {
   "cell_type": "code",
   "execution_count": 4,
   "metadata": {
    "collapsed": true
   },
   "outputs": [],
   "source": [
    "import scipy.stats as stats\n",
    "\n",
    "def norm(mu, sigma, n = 1000):\n",
    "  a = mu - 3*sigma\n",
    "  b = mu + 3*sigma\n",
    "  dist = stats.truncnorm((a - mu) / sigma, (b - mu) / sigma, loc=mu, scale=sigma)\n",
    "  return dist.rvs(n)"
   ]
  },
  {
   "cell_type": "code",
   "execution_count": 6,
   "metadata": {},
   "outputs": [
    {
     "name": "stdout",
     "output_type": "stream",
     "text": [
      "                  Actor     Value\n",
      "0       01. Governments  6.137380\n",
      "1       01. Governments  6.556076\n",
      "2       01. Governments  5.721565\n",
      "3       01. Governments  6.943830\n",
      "4       01. Governments  5.941470\n",
      "5       01. Governments  5.873128\n",
      "6       01. Governments  6.269860\n",
      "7       01. Governments  6.293632\n",
      "8       01. Governments  6.323337\n",
      "9       01. Governments  8.301288\n",
      "10      01. Governments  5.571477\n",
      "11      01. Governments  6.818180\n",
      "12      01. Governments  7.907982\n",
      "13      01. Governments  5.434536\n",
      "14      01. Governments  6.290208\n",
      "15      01. Governments  5.412207\n",
      "16      01. Governments  7.403943\n",
      "17      01. Governments  4.797891\n",
      "18      01. Governments  6.234033\n",
      "19      01. Governments  5.961417\n",
      "20      01. Governments  6.704565\n",
      "21      01. Governments  5.847474\n",
      "22      01. Governments  5.594069\n",
      "23      01. Governments  6.747806\n",
      "24      01. Governments  6.170089\n",
      "25      01. Governments  6.287318\n",
      "26      01. Governments  6.409369\n",
      "27      01. Governments  6.704454\n",
      "28      01. Governments  7.427202\n",
      "29      01. Governments  6.109724\n",
      "...                 ...       ...\n",
      "299970       03. People  4.826557\n",
      "299971       03. People  5.461738\n",
      "299972       03. People  3.269538\n",
      "299973       03. People  5.238706\n",
      "299974       03. People  5.820626\n",
      "299975       03. People  4.495939\n",
      "299976       03. People  6.094691\n",
      "299977       03. People  5.180854\n",
      "299978       03. People  4.614837\n",
      "299979       03. People  5.751835\n",
      "299980       03. People  5.559241\n",
      "299981       03. People  4.693148\n",
      "299982       03. People  4.453057\n",
      "299983       03. People  7.059534\n",
      "299984       03. People  2.719322\n",
      "299985       03. People  5.304464\n",
      "299986       03. People  4.024453\n",
      "299987       03. People  5.650328\n",
      "299988       03. People  5.056721\n",
      "299989       03. People  4.800526\n",
      "299990       03. People  5.460647\n",
      "299991       03. People  4.921671\n",
      "299992       03. People  4.261464\n",
      "299993       03. People  3.998822\n",
      "299994       03. People  4.195252\n",
      "299995       03. People  4.230144\n",
      "299996       03. People  4.768242\n",
      "299997       03. People  5.951055\n",
      "299998       03. People  5.004039\n",
      "299999       03. People  4.121235\n",
      "\n",
      "[300000 rows x 2 columns]\n"
     ]
    }
   ],
   "source": [
    "# created the basic data structure that will be plotted\n",
    "\n",
    "\n",
    "\n",
    "data = []\n",
    "for i in range(len(original_data)):\n",
    "  d = original_data[i]\n",
    "  n = 100000\n",
    "  values = norm(d['mu'], d['sigma'], n)  \n",
    "  strat = str(i+1).zfill(2) + '. ' + d['strat']\n",
    "  for j in range(n):\n",
    "    data.append([strat, values[j]])\n",
    "    \n",
    "df = pd.DataFrame(data, columns=['Actor', 'Value'])\n",
    "print(df)"
   ]
  },
  {
   "cell_type": "code",
   "execution_count": 14,
   "metadata": {},
   "outputs": [
    {
     "data": {
      "image/png": "[encoded data removed]",
      "text/plain": [
       "<matplotlib.figure.Figure at 0x11fe7ef28>"
      ]
     },
     "metadata": {},
     "output_type": "display_data"
    }
   ],
   "source": [
    "%matplotlib inline\n",
    "\n",
    "fig, axes = joypy.joyplot(df, by=\"Actor\",figsize=(8,3))"
   ]
  }
 ],
 "metadata": {
  "kernelspec": {
   "display_name": "Python 3",
   "language": "python",
   "name": "python3"
  },
  "language_info": {
   "codemirror_mode": {
    "name": "ipython",
    "version": 3
   },
   "file_extension": ".py",
   "mimetype": "text/x-python",
   "name": "python",
   "nbconvert_exporter": "python",
   "pygments_lexer": "ipython3",
   "version": "3.6.2"
  }
 },
 "nbformat": 4,
 "nbformat_minor": 2
}
