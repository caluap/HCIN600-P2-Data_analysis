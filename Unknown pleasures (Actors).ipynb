{
 "cells": [
  {
   "cell_type": "code",
   "execution_count": 1,
   "metadata": {
    "collapsed": true
   },
   "outputs": [],
   "source": [
    "import json\n",
    "\n",
    "cis_filter = False\n",
    "\n",
    "if cis_filter:\n",
    "  f = open('rankings_cis_actors.json', 'r')\n",
    "else:\n",
    "  f = open('rankings_actors.json', 'r')\n",
    "\n",
    "original_data = json.load(f)\n",
    "f.close()"
   ]
  },
  {
   "cell_type": "code",
   "execution_count": 2,
   "metadata": {
    "collapsed": true
   },
   "outputs": [],
   "source": [
    "import pandas as pd\n",
    "import matplotlib.pyplot as plt\n",
    "import joypy"
   ]
  },
  {
   "cell_type": "code",
   "execution_count": 3,
   "metadata": {},
   "outputs": [
    {
     "name": "stdout",
     "output_type": "stream",
     "text": [
      "[{'strat': 'Governments', 'mu': 3.9856940949179642, 'sigma': 0.7820039157470787}, {'strat': 'Researchers and companies', 'mu': 3.057903834351394, 'sigma': 0.7804346050168929}, {'strat': 'People', 'mu': 2.5651698346657708, 'sigma': 0.7823522713771596}]\n"
     ]
    }
   ],
   "source": [
    "print(original_data)"
   ]
  },
  {
   "cell_type": "code",
   "execution_count": 4,
   "metadata": {
    "collapsed": true
   },
   "outputs": [],
   "source": [
    "import scipy.stats as stats\n",
    "\n",
    "def norm(mu, sigma, n = 1000):\n",
    "  a = mu - 3*sigma\n",
    "  b = mu + 3*sigma\n",
    "  dist = stats.truncnorm((a - mu) / sigma, (b - mu) / sigma, loc=mu, scale=sigma)\n",
    "  return dist.rvs(n)"
   ]
  },
  {
   "cell_type": "code",
   "execution_count": 5,
   "metadata": {},
   "outputs": [
    {
     "name": "stdout",
     "output_type": "stream",
     "text": [
      "                  Actor     Value\n",
      "0       01. Governments  4.464218\n",
      "1       01. Governments  4.214271\n",
      "2       01. Governments  4.928580\n",
      "3       01. Governments  5.499575\n",
      "4       01. Governments  4.314431\n",
      "5       01. Governments  4.005579\n",
      "6       01. Governments  4.848278\n",
      "7       01. Governments  4.530048\n",
      "8       01. Governments  4.245756\n",
      "9       01. Governments  5.286781\n",
      "10      01. Governments  3.804217\n",
      "11      01. Governments  5.120000\n",
      "12      01. Governments  4.612841\n",
      "13      01. Governments  3.605174\n",
      "14      01. Governments  2.507207\n",
      "15      01. Governments  2.330674\n",
      "16      01. Governments  4.234687\n",
      "17      01. Governments  4.056238\n",
      "18      01. Governments  5.015218\n",
      "19      01. Governments  2.628669\n",
      "20      01. Governments  4.098843\n",
      "21      01. Governments  3.350036\n",
      "22      01. Governments  3.972239\n",
      "23      01. Governments  2.513121\n",
      "24      01. Governments  5.440860\n",
      "25      01. Governments  4.200083\n",
      "26      01. Governments  3.603416\n",
      "27      01. Governments  4.756458\n",
      "28      01. Governments  4.286629\n",
      "29      01. Governments  3.677448\n",
      "...                 ...       ...\n",
      "299970       03. People  2.372784\n",
      "299971       03. People  3.423631\n",
      "299972       03. People  2.213929\n",
      "299973       03. People  2.693161\n",
      "299974       03. People  2.251996\n",
      "299975       03. People  2.481915\n",
      "299976       03. People  3.392434\n",
      "299977       03. People  1.341115\n",
      "299978       03. People  2.879592\n",
      "299979       03. People  2.523815\n",
      "299980       03. People  2.086953\n",
      "299981       03. People  1.822990\n",
      "299982       03. People  2.850150\n",
      "299983       03. People  3.068504\n",
      "299984       03. People  2.593886\n",
      "299985       03. People  2.910168\n",
      "299986       03. People  1.338455\n",
      "299987       03. People  3.132817\n",
      "299988       03. People  1.052646\n",
      "299989       03. People  2.314905\n",
      "299990       03. People  1.953072\n",
      "299991       03. People  2.426367\n",
      "299992       03. People  2.731695\n",
      "299993       03. People  2.972593\n",
      "299994       03. People  3.370161\n",
      "299995       03. People  2.798317\n",
      "299996       03. People  2.508512\n",
      "299997       03. People  1.856517\n",
      "299998       03. People  2.644027\n",
      "299999       03. People  2.615195\n",
      "\n",
      "[300000 rows x 2 columns]\n"
     ]
    }
   ],
   "source": [
    "# created the basic data structure that will be plotted\n",
    "\n",
    "\n",
    "\n",
    "data = []\n",
    "for i in range(len(original_data)):\n",
    "  d = original_data[i]\n",
    "  n = 100000\n",
    "  values = norm(d['mu'], d['sigma'], n)  \n",
    "  strat = str(i+1).zfill(2) + '. ' + d['strat']\n",
    "  for j in range(n):\n",
    "    data.append([strat, values[j]])\n",
    "    \n",
    "df = pd.DataFrame(data, columns=['Actor', 'Value'])\n",
    "print(df)"
   ]
  },
  {
   "cell_type": "code",
   "execution_count": 6,
   "metadata": {},
   "outputs": [
    {
     "data": {
      "image/png": "[encoded data removed]",
      "text/plain": [
       "<matplotlib.figure.Figure at 0x11fe886a0>"
      ]
     },
     "metadata": {},
     "output_type": "display_data"
    }
   ],
   "source": [
    "%matplotlib inline\n",
    "\n",
    "fig, axes = joypy.joyplot(df, by=\"Actor\",figsize=(8,3))"
   ]
  }
 ],
 "metadata": {
  "kernelspec": {
   "display_name": "Python 3",
   "language": "python",
   "name": "python3"
  },
  "language_info": {
   "codemirror_mode": {
    "name": "ipython",
    "version": 3
   },
   "file_extension": ".py",
   "mimetype": "text/x-python",
   "name": "python",
   "nbconvert_exporter": "python",
   "pygments_lexer": "ipython3",
   "version": "3.6.2"
  }
 },
 "nbformat": 4,
 "nbformat_minor": 2
}
