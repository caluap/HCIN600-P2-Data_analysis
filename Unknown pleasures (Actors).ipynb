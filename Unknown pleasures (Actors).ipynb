{
 "cells": [
  {
   "cell_type": "code",
   "execution_count": 1,
   "metadata": {
    "collapsed": true
   },
   "outputs": [],
   "source": [
    "import json\n",
    "\n",
    "f = open('rankings_actors.json', 'r')\n",
    "\n",
    "original_data = json.load(f)\n",
    "f.close()"
   ]
  },
  {
   "cell_type": "code",
   "execution_count": 2,
   "metadata": {
    "collapsed": true
   },
   "outputs": [],
   "source": [
    "import pandas as pd\n",
    "import matplotlib.pyplot as plt\n",
    "import joypy"
   ]
  },
  {
   "cell_type": "code",
   "execution_count": 3,
   "metadata": {},
   "outputs": [
    {
     "name": "stdout",
     "output_type": "stream",
     "text": [
      "[{'strat': 'Governments', 'mu': 3.9856940949179642, 'sigma': 0.7820039157470787}, {'strat': 'Researchers and companies', 'mu': 3.057903834351394, 'sigma': 0.7804346050168929}, {'strat': 'People', 'mu': 2.5651698346657708, 'sigma': 0.7823522713771596}]\n"
     ]
    }
   ],
   "source": [
    "print(original_data)"
   ]
  },
  {
   "cell_type": "code",
   "execution_count": 4,
   "metadata": {
    "collapsed": true
   },
   "outputs": [],
   "source": [
    "import scipy.stats as stats\n",
    "\n",
    "def norm(mu, sigma, n = 1000):\n",
    "  a = mu - 3*sigma\n",
    "  b = mu + 3*sigma\n",
    "  dist = stats.truncnorm((a - mu) / sigma, (b - mu) / sigma, loc=mu, scale=sigma)\n",
    "  return dist.rvs(n)"
   ]
  },
  {
   "cell_type": "code",
   "execution_count": 5,
   "metadata": {},
   "outputs": [
    {
     "name": "stdout",
     "output_type": "stream",
     "text": [
      "                  Actor     Value\n",
      "0       01. Governments  3.979409\n",
      "1       01. Governments  2.876543\n",
      "2       01. Governments  4.274678\n",
      "3       01. Governments  4.150577\n",
      "4       01. Governments  3.282970\n",
      "5       01. Governments  4.412742\n",
      "6       01. Governments  4.464087\n",
      "7       01. Governments  2.317428\n",
      "8       01. Governments  2.435955\n",
      "9       01. Governments  4.715160\n",
      "10      01. Governments  3.176532\n",
      "11      01. Governments  2.346654\n",
      "12      01. Governments  4.664805\n",
      "13      01. Governments  3.845043\n",
      "14      01. Governments  3.840236\n",
      "15      01. Governments  4.717259\n",
      "16      01. Governments  3.944035\n",
      "17      01. Governments  3.433745\n",
      "18      01. Governments  2.536934\n",
      "19      01. Governments  3.420065\n",
      "20      01. Governments  3.902604\n",
      "21      01. Governments  4.331614\n",
      "22      01. Governments  3.767870\n",
      "23      01. Governments  4.761721\n",
      "24      01. Governments  4.415919\n",
      "25      01. Governments  4.811035\n",
      "26      01. Governments  2.973040\n",
      "27      01. Governments  2.731550\n",
      "28      01. Governments  4.024118\n",
      "29      01. Governments  4.948368\n",
      "...                 ...       ...\n",
      "299970       03. People  2.946775\n",
      "299971       03. People  2.206298\n",
      "299972       03. People  1.729329\n",
      "299973       03. People  2.984261\n",
      "299974       03. People  1.616832\n",
      "299975       03. People  3.423878\n",
      "299976       03. People  1.336850\n",
      "299977       03. People  2.683752\n",
      "299978       03. People  3.635386\n",
      "299979       03. People  2.796301\n",
      "299980       03. People  3.615234\n",
      "299981       03. People  2.668675\n",
      "299982       03. People  2.564696\n",
      "299983       03. People  1.665667\n",
      "299984       03. People  2.404060\n",
      "299985       03. People  1.112909\n",
      "299986       03. People  1.211551\n",
      "299987       03. People  3.745147\n",
      "299988       03. People  1.862751\n",
      "299989       03. People  4.030969\n",
      "299990       03. People  2.145480\n",
      "299991       03. People  2.517975\n",
      "299992       03. People  3.337774\n",
      "299993       03. People  2.196090\n",
      "299994       03. People  1.536193\n",
      "299995       03. People  2.223057\n",
      "299996       03. People  1.325110\n",
      "299997       03. People  1.431922\n",
      "299998       03. People  2.761772\n",
      "299999       03. People  3.138329\n",
      "\n",
      "[300000 rows x 2 columns]\n"
     ]
    }
   ],
   "source": [
    "# created the basic data structure that will be plotted\n",
    "\n",
    "\n",
    "\n",
    "data = []\n",
    "for i in range(len(original_data)):\n",
    "  d = original_data[i]\n",
    "  n = 100000\n",
    "  values = norm(d['mu'], d['sigma'], n)  \n",
    "  strat = str(i+1).zfill(2) + '. ' + d['strat']\n",
    "  for j in range(n):\n",
    "    data.append([strat, values[j]])\n",
    "    \n",
    "df = pd.DataFrame(data, columns=['Actor', 'Value'])\n",
    "print(df)"
   ]
  },
  {
   "cell_type": "code",
   "execution_count": 6,
   "metadata": {},
   "outputs": [
    {
     "data": {
      "image/png": "[encoded data removed]",
      "text/plain": [
       "<matplotlib.figure.Figure at 0x11ff88278>"
      ]
     },
     "metadata": {},
     "output_type": "display_data"
    }
   ],
   "source": [
    "%matplotlib inline\n",
    "\n",
    "fig, axes = joypy.joyplot(df, by=\"Actor\",figsize=(8,3))"
   ]
  }
 ],
 "metadata": {
  "kernelspec": {
   "display_name": "Python 3",
   "language": "python",
   "name": "python3"
  },
  "language_info": {
   "codemirror_mode": {
    "name": "ipython",
    "version": 3
   },
   "file_extension": ".py",
   "mimetype": "text/x-python",
   "name": "python",
   "nbconvert_exporter": "python",
   "pygments_lexer": "ipython3",
   "version": "3.6.2"
  }
 },
 "nbformat": 4,
 "nbformat_minor": 2
}
