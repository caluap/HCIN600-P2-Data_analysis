{
 "cells": [
  {
   "cell_type": "code",
   "execution_count": 1,
   "metadata": {
    "collapsed": true
   },
   "outputs": [],
   "source": [
    "import firebase_admin\n",
    "from firebase_admin import credentials, firestore\n",
    "\n",
    "if not firebase_admin._apps:\n",
    "  cred = credentials.Certificate('/Users/calua/google_drive/pessoal/estudo/doutorado/Courses/2021/HCIN600/P2/HCIN600-P2-Data_analysis/hcin600-p2-firebase-adminsdk-ys5mm-18918faa84.json')\n",
    "  default_app = firebase_admin.initialize_app(cred, {\n",
    "    'databaseURL': 'https://hcin600-p2-default-rtdb.firebaseio.com/'\n",
    "  })"
   ]
  },
  {
   "cell_type": "code",
   "execution_count": 2,
   "metadata": {
    "collapsed": true
   },
   "outputs": [],
   "source": [
    "db = firebase_admin.firestore.client()"
   ]
  },
  {
   "cell_type": "code",
   "execution_count": null,
   "metadata": {
    "collapsed": true
   },
   "outputs": [],
   "source": [
    "# add your collections manually\n",
    "collection_names = ['official_test']\n",
    "collections = dict()\n",
    "dict4json = dict()\n",
    "n_documents = 0"
   ]
  },
  {
   "cell_type": "code",
   "execution_count": null,
   "metadata": {
    "collapsed": true
   },
   "outputs": [],
   "source": [
    "for collection in collection_names:\n",
    "    collections[collection] = db.collection(collection).get()\n",
    "    dict4json[collection] = {}\n",
    "    for document in collections[collection]:\n",
    "        docdict = document.to_dict()\n",
    "        dict4json[collection][document.id] = docdict\n",
    "        n_documents += 1"
   ]
  },
  {
   "cell_type": "code",
   "execution_count": null,
   "metadata": {},
   "outputs": [],
   "source": [
    "import json\n",
    "\n",
    "jsonfromdict = json.dumps(dict4json, indent=4, sort_keys=True, default=str)\n",
    "path_filename = \"./dump.json\"\n",
    "print(f\"Downloaded {len(collection_names)} collections, {n_documents} documents and now writing {len(jsonfromdict)} json characters to {path_filename}\")\n",
    "with open(path_filename, 'w') as the_file:\n",
    "    the_file.write(jsonfromdict)"
   ]
  }
 ],
 "metadata": {
  "kernelspec": {
   "display_name": "Python 3",
   "language": "python",
   "name": "python3"
  },
  "language_info": {
   "codemirror_mode": {
    "name": "ipython",
    "version": 3
   },
   "file_extension": ".py",
   "mimetype": "text/x-python",
   "name": "python",
   "nbconvert_exporter": "python",
   "pygments_lexer": "ipython3",
   "version": "3.6.2"
  }
 },
 "nbformat": 4,
 "nbformat_minor": 2
}
