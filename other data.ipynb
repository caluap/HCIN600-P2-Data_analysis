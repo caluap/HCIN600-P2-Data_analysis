{
 "cells": [
  {
   "cell_type": "code",
   "execution_count": 1,
   "metadata": {
    "collapsed": true
   },
   "outputs": [],
   "source": [
    "causes = [\n",
    "  \"Greenhouse gas emissions from coal-fired power plants\", \n",
    "  \"Greenhouse gas emissions from transportation and automobiles\",\n",
    "  \"Felling of trees in primary forests to release greenhouse gases stored in forests\",\n",
    "  \"Normal human activities, such as household energy use, meat consumption, etc.\",\n",
    "  \"This is a natural phenomenon that happens naturally\",\n",
    "  \"Other causes not listed\"\n",
    "]"
   ]
  },
  {
   "cell_type": "code",
   "execution_count": 2,
   "metadata": {
    "collapsed": true
   },
   "outputs": [],
   "source": [
    "likert = [\n",
    "  \"Strongly disagree\",\n",
    "  \"Disagree\",\n",
    "  \"Neutral\",\n",
    "  \"Agree\",\n",
    "  \"Strongly agree\"\n",
    "]"
   ]
  },
  {
   "cell_type": "code",
   "execution_count": 3,
   "metadata": {
    "collapsed": true
   },
   "outputs": [],
   "source": [
    "import json\n",
    "\n",
    "f = open('dump.json', 'r')\n",
    "\n",
    "data = json.load(f)['official_test']\n",
    "f.close()"
   ]
  },
  {
   "cell_type": "code",
   "execution_count": 4,
   "metadata": {
    "collapsed": true
   },
   "outputs": [],
   "source": [
    "def print_scale(d, scale):\n",
    "  for i in range(len(scale)):\n",
    "    if str(i+1) in d:\n",
    "      print(f\"{scale[i]}: {d[str(i+1)]}\")\n",
    "    else:\n",
    "      print(f\"{scale[i]}: 0\")"
   ]
  },
  {
   "cell_type": "code",
   "execution_count": 5,
   "metadata": {
    "collapsed": true
   },
   "outputs": [],
   "source": [
    "def count_frequency(my_list):\n",
    "  freq = {}\n",
    "\n",
    "  for item in my_list:\n",
    "      if item in freq:\n",
    "          freq[item] += 1\n",
    "      else:\n",
    "          freq[item] = 1\n",
    "\n",
    "  return freq"
   ]
  },
  {
   "cell_type": "markdown",
   "metadata": {},
   "source": [
    "# Effectively finished"
   ]
  },
  {
   "cell_type": "code",
   "execution_count": 6,
   "metadata": {},
   "outputs": [
    {
     "name": "stdout",
     "output_type": "stream",
     "text": [
      "28\n"
     ]
    }
   ],
   "source": [
    "ef = 0\n",
    "for p in data:\n",
    "  if 'general_data' in data[p]:\n",
    "    if data[p]['general_data']['effectively_finished']:\n",
    "      ef += 1\n",
    "      \n",
    "print(ef)"
   ]
  },
  {
   "cell_type": "markdown",
   "metadata": {},
   "source": [
    "# Occupation"
   ]
  },
  {
   "cell_type": "code",
   "execution_count": 7,
   "metadata": {},
   "outputs": [
    {
     "name": "stdout",
     "output_type": "stream",
     "text": [
      "0. interpreter\n",
      "1. student\n",
      "2. Student\n",
      "3. Engineer \n",
      "4. Student\n",
      "5. Programmer\n",
      "6. Software Engineer \n",
      "7. Freelancer\n",
      "8. Salesperson\n",
      "9. Student \n",
      "10. Product Designer\n",
      "11. Software developer\n",
      "12. student\n",
      "13. Student\n",
      "14. Student\n",
      "15. Cybersecurity Engineer\n",
      "16. Student\n",
      "17. HR Professional\n",
      "18. Student\n",
      "19. Student\n",
      "20. Student \n",
      "21. engineer \n",
      "22. IT coordinator\n",
      "23. Student\n",
      "24. Student\n",
      "25. Student \n",
      "26. auditor\n",
      "27. Student\n",
      "28. 學生\n"
     ]
    }
   ],
   "source": [
    "oc = []\n",
    "for p in data:\n",
    "  if 'general_data' in data[p]:\n",
    "    temp = data[p]['general_data']['about_the_participant']\n",
    "    \n",
    "    # dumb caluã had a typo in the code and now i can't change these documents @ firebase that\n",
    "    # have inconsistent single “c” in the name... and it's not all of them, so....    \n",
    "    if 'ocupation' in temp:\n",
    "      key = 'ocupation'\n",
    "    else:\n",
    "      key = 'occupation'\n",
    "\n",
    "    if temp[key]:\n",
    "      oc.append(temp[key])\n",
    "      \n",
    "for i in range(len(oc)):\n",
    "  print(f\"{i}. {oc[i]}\")"
   ]
  },
  {
   "cell_type": "markdown",
   "metadata": {},
   "source": [
    "# Field of study"
   ]
  },
  {
   "cell_type": "code",
   "execution_count": 8,
   "metadata": {},
   "outputs": [
    {
     "name": "stdout",
     "output_type": "stream",
     "text": [
      "0. n/a\n",
      "1. industrial engineering, human factor engineering \n",
      "2. Industrial management\n",
      "3. Computer science \n",
      "4. Design\n",
      "5. Enterprise Cloud Sysmte\n",
      "6. Computer Science \n",
      "7. Information Management\n",
      "8. Foreign Language and Literature\n",
      "9. Computational Fluid Dynamics \n",
      "10. HCI\n",
      "11. Computer Science\n",
      "12. design\n",
      "13. Industrial design\n",
      "14. Animation\n",
      "15. Computer science, Cybersecurity\n",
      "16. Computer science\n",
      "17. Learning & Development\n",
      "18. Computer science\n",
      "19. Packaging Science\n",
      "20. Business analytics \n",
      "21. Information management \n",
      "22. Information Managemrnt\n",
      "23. Human-Computer Interation\n",
      "24. Human-Computer Interaction \n",
      "25. Robotics\n",
      "26. information management\n",
      "27. Information management , Ergonomics \n",
      "28. Software Development, transitioning to user experience design\n",
      "29. 人因工程\n"
     ]
    }
   ],
   "source": [
    "fs = []\n",
    "for p in data:\n",
    "  if 'general_data' in data[p]:\n",
    "    temp = data[p]['general_data']['about_the_participant']['field_of_study']\n",
    "    if temp:\n",
    "      fs.append(temp)\n",
    "      \n",
    "     \n",
    "for i in range(len(fs)):\n",
    "  print(f\"{i}. {fs[i]}\")"
   ]
  },
  {
   "cell_type": "markdown",
   "metadata": {},
   "source": [
    "# Education"
   ]
  },
  {
   "cell_type": "code",
   "execution_count": 9,
   "metadata": {},
   "outputs": [
    {
     "name": "stdout",
     "output_type": "stream",
     "text": [
      "{'Bachelor’s or equivalent level': 9, 'Master’s or equivalent level': 19, '學士或同等水平': 1, '碩士或同等水平': 1, '碩士或同等級別': 1}\n"
     ]
    }
   ],
   "source": [
    "ed = []\n",
    "for p in data:\n",
    "  if 'general_data' in data[p]:\n",
    "    temp = data[p]['general_data']['about_the_participant']['education']\n",
    "    if temp:\n",
    "      ed.append(temp)\n",
    "      \n",
    "fr_ed = count_frequency(ed)\n",
    "print(fr_ed)"
   ]
  },
  {
   "cell_type": "markdown",
   "metadata": {},
   "source": [
    "# Ages"
   ]
  },
  {
   "cell_type": "code",
   "execution_count": 10,
   "metadata": {},
   "outputs": [
    {
     "name": "stdout",
     "output_type": "stream",
     "text": [
      "{'25 to 34 years': 13, '18 to 24 years': 14, '18 至 24 歲': 3, '35 to 44 years': 1}\n"
     ]
    }
   ],
   "source": [
    "ag = []\n",
    "for p in data:\n",
    "  if 'general_data' in data[p]:\n",
    "    temp = data[p]['general_data']['about_the_participant']['age_group']\n",
    "    if temp:\n",
    "      ag.append(temp)\n",
    "      \n",
    "fr_ag = count_frequency(ag)\n",
    "print(fr_ag)"
   ]
  },
  {
   "cell_type": "markdown",
   "metadata": {},
   "source": [
    "# Gender"
   ]
  },
  {
   "cell_type": "code",
   "execution_count": 11,
   "metadata": {},
   "outputs": [
    {
     "name": "stdout",
     "output_type": "stream",
     "text": [
      "{'Feminine': 16, 'Masculine': 11, '男性': 2, 'I’d rather not answer this': 1, '女性': 1}\n"
     ]
    }
   ],
   "source": [
    "ge = []\n",
    "for p in data:\n",
    "  if 'general_data' in data[p]:\n",
    "    temp = data[p]['general_data']['about_the_participant']['gender']\n",
    "    if temp:\n",
    "      ge.append(temp)\n",
    "      \n",
    "fr_ge = count_frequency(ge)\n",
    "print(fr_ge)"
   ]
  },
  {
   "cell_type": "markdown",
   "metadata": {},
   "source": [
    "# Do you agree that climate change is an important issue?"
   ]
  },
  {
   "cell_type": "code",
   "execution_count": 12,
   "metadata": {},
   "outputs": [
    {
     "name": "stdout",
     "output_type": "stream",
     "text": [
      "Strongly disagree: 1\n",
      "Disagree: 1\n",
      "Neutral: 0\n",
      "Agree: 8\n",
      "Strongly agree: 21\n"
     ]
    }
   ],
   "source": [
    "imp = []\n",
    "for p in data:\n",
    "  if 'general_data' in data[p]:\n",
    "    temp = data[p]['general_data']['about_the_participant']\n",
    "    if 'is_it_an_important_issue' in temp:\n",
    "      temp = temp['is_it_an_important_issue']\n",
    "      if temp:\n",
    "        imp.append(temp)\n",
    "      \n",
    "fr_imp = count_frequency(imp)\n",
    "print_scale(fr_imp, likert)"
   ]
  },
  {
   "cell_type": "markdown",
   "metadata": {},
   "source": [
    "# Do you agree that climate change will have negative effects on future          generations?"
   ]
  },
  {
   "cell_type": "code",
   "execution_count": 13,
   "metadata": {},
   "outputs": [
    {
     "name": "stdout",
     "output_type": "stream",
     "text": [
      "Strongly disagree: 1\n",
      "Disagree: 0\n",
      "Neutral: 0\n",
      "Agree: 14\n",
      "Strongly agree: 16\n"
     ]
    }
   ],
   "source": [
    "fut = []\n",
    "for p in data:\n",
    "  if 'general_data' in data[p]:\n",
    "    temp = data[p]['general_data']['about_the_participant']\n",
    "    if 'will_it_affect_future_generations' in temp:\n",
    "      temp = temp['will_it_affect_future_generations']\n",
    "      if temp:\n",
    "        fut.append(temp)\n",
    "      \n",
    "fr_fut = count_frequency(fut)\n",
    "print_scale(fr_fut, likert)"
   ]
  },
  {
   "cell_type": "markdown",
   "metadata": {},
   "source": [
    "# What do you think is the main cause of climate change?"
   ]
  },
  {
   "cell_type": "code",
   "execution_count": 14,
   "metadata": {},
   "outputs": [
    {
     "name": "stdout",
     "output_type": "stream",
     "text": [
      "Greenhouse gas emissions from coal-fired power plants: 13\n",
      "Greenhouse gas emissions from transportation and automobiles: 2\n",
      "Felling of trees in primary forests to release greenhouse gases stored in forests: 3\n",
      "Normal human activities, such as household energy use, meat consumption, etc.: 9\n",
      "This is a natural phenomenon that happens naturally: 3\n",
      "Other causes not listed: 1\n"
     ]
    }
   ],
   "source": [
    "cau = []\n",
    "for p in data:\n",
    "  if 'general_data' in data[p]:\n",
    "    temp = data[p]['general_data']['about_the_participant']\n",
    "    if 'what_is_it_main_cause' in temp:\n",
    "      temp = temp['what_is_it_main_cause']\n",
    "      if temp:\n",
    "        cau.append(temp)\n",
    "      \n",
    "fr_cau = count_frequency(cau)\n",
    "print_scale(fr_cau, causes)"
   ]
  },
  {
   "cell_type": "markdown",
   "metadata": {},
   "source": [
    "# What do you think is the best mitigation strategy to reduce the effects of climate change?"
   ]
  },
  {
   "cell_type": "code",
   "execution_count": 15,
   "metadata": {},
   "outputs": [
    {
     "name": "stdout",
     "output_type": "stream",
     "text": [
      "0. limit emissions of factories and industrial buildings\n",
      "\n",
      "1. Reduce the usage of  everything comes from factory\n",
      "\n",
      "2. Try to reduce anything we do that might cause greenhouse gas emissions. Also, governments need to strictly implement laws regarding environmental issues.\n",
      "\n",
      "3. Humans all dies. \n",
      "\n",
      "4. Less aircon\n",
      "\n",
      "5. No worries on the climate change, but it’s good to stop ac\n",
      "\n",
      "6. Decrease greenhouse gas emissions from industrial activities\n",
      "\n",
      "7. Completely shifting our energy needs from Fossil fuels to Renewables, and reforestation.\n",
      "\n",
      "8. Of course we can all do our part on an every day basis, and we should, but organizations (companies, governments, etc) need to change the way they produce and ship products since they are doing it on mass, causing the largest effects on the climate over time. I think this needs to be a legal change, I don't think businesses will do it without it being a law. On a personal level I think recycling (coming up with better recycling programs), composting, buying less, driving less, and eating less meat would generally be some things we should all do if we aren't already. \n",
      "\n",
      "9. I guess the most easier way is to initiate by self? \n",
      "Plastic-free.\n",
      "Plant if space is available. \n",
      "Stop printing, use read digital instead of paper.\n",
      "Taking public transportation if possible.\n",
      "Etc.\n",
      "\n",
      "\n",
      "10. Stop supporting the companies/ factories that are causing high gas emissions \n",
      "\n",
      "11. Using renewable energy, higher energy conversion efficiency technology.\n",
      "\n",
      "12. Stringent laws to limit fossil fuels utilized by industries, on a monthly or yearly basis \n",
      "\n",
      "13. Developing resources to scale up renewable energies and price out oil and gas in terms of efficiency\n",
      "\n",
      "14. Human extinction\n",
      "\n",
      "15. To change reliance to more renewable sources of energy and to find carbon neutral waste management mechanisms \n",
      "\n",
      "16. Recycling \n",
      "\n",
      "17. expand the usage of eco-friendly furniture and vehicles.\n",
      "\n",
      "18. Producers reduce production. Consumers reduce consumption.\n",
      "\n",
      "19. Afforestation, use of catalytic concepts, renewable energy, nuclear energy\n",
      "\n",
      "20. Strict, worldwide regulations on polluting activities; financial incentives to improve clean alternatives and make them easily available to the general population\n",
      "\n",
      "21. 節能、減油等環保相關方式\n",
      "\n"
     ]
    }
   ],
   "source": [
    "mit = []\n",
    "for p in data:\n",
    "  if 'general_data' in data[p]:\n",
    "    temp = data[p]['general_data']['about_the_participant']\n",
    "    if 'suggested_strategies' in temp:\n",
    "      temp = temp['suggested_strategies']\n",
    "      if temp:\n",
    "        mit.append(temp)\n",
    "      \n",
    "for i in range(len(mit)):\n",
    "  print(f\"{i}. {mit[i]}\\n\")"
   ]
  },
  {
   "cell_type": "markdown",
   "metadata": {},
   "source": [
    "# Open-ended comments at the end"
   ]
  },
  {
   "cell_type": "code",
   "execution_count": 16,
   "metadata": {},
   "outputs": [
    {
     "name": "stdout",
     "output_type": "stream",
     "text": [
      "0. The survey is a bit longer than I expected. 😅\n",
      "And the question is the same…\n",
      "Should tell before the game start, so wouldn’t spend more time GK differentiate every page.\n",
      "\n",
      "1. While every point made in this survey is important to reducing climate change effects, the reality is that only by financial incentives and legal means that we can convince mega corporations to change. Once pollution hits their bottom line, they will kick and scream and eventually drag themselves into the clean energy world if we don't give in.\n",
      "\n"
     ]
    }
   ],
   "source": [
    "ope = []\n",
    "for p in data:\n",
    "  if 'general_data' in data[p]:\n",
    "    temp = data[p]['general_data']['open_ended_answer']\n",
    "    if temp:\n",
    "      ope.append(temp)\n",
    "      \n",
    "for i in range(len(ope)):\n",
    "  print(f\"{i}. {ope[i]}\\n\")"
   ]
  }
 ],
 "metadata": {
  "kernelspec": {
   "display_name": "Python 3",
   "language": "python",
   "name": "python3"
  },
  "language_info": {
   "codemirror_mode": {
    "name": "ipython",
    "version": 3
   },
   "file_extension": ".py",
   "mimetype": "text/x-python",
   "name": "python",
   "nbconvert_exporter": "python",
   "pygments_lexer": "ipython3",
   "version": "3.6.2"
  }
 },
 "nbformat": 4,
 "nbformat_minor": 2
}
