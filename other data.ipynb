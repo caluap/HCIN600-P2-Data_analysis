{
 "cells": [
  {
   "cell_type": "code",
   "execution_count": 1,
   "metadata": {
    "collapsed": true
   },
   "outputs": [],
   "source": [
    "causes = [\n",
    "  \"Greenhouse gas emissions from coal-fired power plants\", \n",
    "  \"Greenhouse gas emissions from transportation and automobiles\",\n",
    "  \"Felling of trees in primary forests to release greenhouse gases stored in forests\",\n",
    "  \"Normal human activities, such as household energy use, meat consumption, etc.\",\n",
    "  \"This is a natural phenomenon that happens naturally\",\n",
    "  \"Other causes not listed\"\n",
    "]"
   ]
  },
  {
   "cell_type": "code",
   "execution_count": 2,
   "metadata": {
    "collapsed": true
   },
   "outputs": [],
   "source": [
    "likert = [\n",
    "  \"Strongly disagree\",\n",
    "  \"Disagree\",\n",
    "  \"Neutral\",\n",
    "  \"Agree\",\n",
    "  \"Strongly agree\"\n",
    "]"
   ]
  },
  {
   "cell_type": "code",
   "execution_count": 3,
   "metadata": {
    "collapsed": true
   },
   "outputs": [],
   "source": [
    "import json\n",
    "\n",
    "f = open('dump.json', 'r')\n",
    "\n",
    "data = json.load(f)['official_test']\n",
    "f.close()"
   ]
  },
  {
   "cell_type": "code",
   "execution_count": 4,
   "metadata": {
    "collapsed": true
   },
   "outputs": [],
   "source": [
    "def print_scale(d, scale):\n",
    "  for i in range(len(scale)):\n",
    "    if str(i+1) in d:\n",
    "      print(f\"{scale[i]}: {d[str(i+1)]}\")\n",
    "    else:\n",
    "      print(f\"{scale[i]}: 0\")"
   ]
  },
  {
   "cell_type": "code",
   "execution_count": 5,
   "metadata": {
    "collapsed": true
   },
   "outputs": [],
   "source": [
    "def count_frequency(my_list):\n",
    "  freq = {}\n",
    "\n",
    "  for item in my_list:\n",
    "      if item in freq:\n",
    "          freq[item] += 1\n",
    "      else:\n",
    "          freq[item] = 1\n",
    "\n",
    "  return freq"
   ]
  },
  {
   "cell_type": "markdown",
   "metadata": {},
   "source": [
    "# Effectively finished"
   ]
  },
  {
   "cell_type": "code",
   "execution_count": 6,
   "metadata": {},
   "outputs": [
    {
     "name": "stdout",
     "output_type": "stream",
     "text": [
      "49\n"
     ]
    }
   ],
   "source": [
    "ef = 0\n",
    "for p in data:\n",
    "  if 'general_data' in data[p]:\n",
    "    if data[p]['general_data']['effectively_finished']:\n",
    "      ef += 1\n",
    "      \n",
    "print(ef)"
   ]
  },
  {
   "cell_type": "markdown",
   "metadata": {},
   "source": [
    "# Occupation x Field of study"
   ]
  },
  {
   "cell_type": "code",
   "execution_count": 7,
   "metadata": {},
   "outputs": [
    {
     "name": "stdout",
     "output_type": "stream",
     "text": [
      "0. Sales - International Business  - 0RuxwYebn7NDVbbM05RBGAEtb802\n",
      "1. Student - Data Science  - 2szS59uaw6SRp15SVaE3Ql2Nxov1\n",
      "2. Student - Computer Science  - 3PlYD1PUI9NIKrbmZ8IaY1IZTer2\n",
      "3. interpreter - n/a  - 3xxGsLOddjXaexvaw5wQ9pS96yu2\n",
      "4. Student - Information Management  - 4ulYCyCNb5blwbRlJNTzrIx0YJE3\n",
      "5. Teacher - Accounting and finance   - 5ATeBRS7QeQU157RgBKXXs7LI0G3\n",
      "6. Student - Business  - 6oqo88u3zUevLidaPYtLgspVvej1\n",
      "7. student - industrial engineering, human factor engineering   - 8Zf8zQqBXpMQq8Bf27Iwg2AKXji2\n",
      "8. Student - Industrial management  - BbzoOXwIvyVfffOgLz6yJpp4SSM2\n",
      "9. Analytics Manager - Chemistry  - Cw2UU7ComDV0tnOeoDj2ay2X7gx2\n",
      "10. Engineer  - Computer science   - Fata8XPnZmgsP1sXkOtXWKTflGn1\n",
      "11. Business Analyst - Commerce  - Fu3ZSh72LscLsVaqg0LdS0LYxK43\n",
      "12. Student - Sustainable Engineering  - HQI8HrrL48giVWahLI4lTykNLyR2\n",
      "13. College student - International Business   - HxyCr6bgGTRl1ES7qGmyLDOsJ9I2\n",
      "14. Student - Design  - IUGrdiRFVPRU8bNX0JSoiGtpaGt2\n",
      "15. student - MS in Management and Systems  - J7bs6DFJGLgdMLzAHxWwYufHc3q2\n",
      "16. Taiwan - Chemistry  - K1fy4FhcljTg65LQ1GYhooaDpxI3\n",
      "17. Programmer - Enterprise Cloud Sysmte  - KM4H3phtSdbcbd4N0L3ejpzzFTe2\n",
      "18. Software Engineer  - Computer Science   - KcpJyQWpvKWr948uqvUIfhpGg7R2\n",
      "19. Freelancer - Information Management  - PYYIhrM9GwSP0ps13SmT7ognSxm2\n",
      "20. Salesperson - Foreign Language and Literature  - Po3BD9dS1gVIT78fxtNlxKQUHDg1\n",
      "21. Student  - Computational Fluid Dynamics   - SV34N6yAnzO4vZM09fGZxuKPngj1\n",
      "22. Product Designer - HCI  - T4KCQEZzqYT1QXCOLc1a0hFk8IO2\n",
      "23. Student - Computer science, Data science  - UcN3qSDS2MR0rEOYDjXbAmWsew82\n",
      "24.  - Environmental Studies emphasis on toxicology.  - UhdDy7YX2kTMYBqZ3kMXVQv9lD23\n",
      "25. Software developer - Computer Science  - WXZTBQOYfOU9U3HomAtmCvsS5FN2\n",
      "26. Student - Environmental Engineering  - Whc9p97fyrZz0GMAetuRKdhnQfD2\n",
      "27. student - design  - Ys1emhAOrEaH117zoVByr76PzVd2\n",
      "28. Student - Industrial design  - ZAygaMIhIJeukRYwGu7Yx7Ix6Lt2\n",
      "29. Student - Animation  - aB9IV3DjriheOvtjQlrfA4YD4QA3\n",
      "30. Cybersecurity Engineer - Computer science, Cybersecurity  - auvrWmJMOyZtNjof8gVg6rpxInw1\n",
      "31. Student - Computer science  - bWOGKJVHxDNrJuRuaJJNimK9git2\n",
      "32. HR Professional - Learning & Development  - beyZhnoTK8NttagfgpzyUHsWv7M2\n",
      "33. software engineer - information technology  - eF9D8ynOjXboeb6J3wUNCzjtg5Z2\n",
      "34. Student - Computer science  - eR7J1g9KOJXapQZ33L27RG7b7gP2\n",
      "35. Student - Packaging Science  - ehAGSCcUDFdqvmTcmH90YC9NdlG3\n",
      "36. Student  - Business analytics   - fYa9iuuzAbZ6Vt41sirxPIf6BBf2\n",
      "37. Student - Computer Science  - fs040kQL4KX7tyVaLaYEhueuW763\n",
      "38. engineer  - Information management   - irXPhc2VyyXgen8SaUSDhISQUO23\n",
      "39. IT coordinator - Information Managemrnt  - jIZRP82KEvQwSiVPKFaQM7BETUW2\n",
      "40. Student - Computer science  - jgrtivnLi5dL5h3UohMTd9cVprT2\n",
      "41. Marketing - Multimedia, digital marketing  - jjWWiF8xb0c8kTiBtxrn1QJlINx2\n",
      "42. Student - Human-Computer Interation  - l5SLxuaczFg8yWrZYXhet9EUnp03\n",
      "43. Student - Human-Computer Interaction   - lI9BilH0mUd4ziejXki7G80VBsK2\n",
      "44. 廚師 - 健康風險管理  - nRGdbqhF5dM4mo2NvutN3QsD1o92\n",
      "45. Student  - Robotics  - nacSqt0eI7fR2gbfMJ6CfBQaymO2\n",
      "46. student - Business, Information management  - sOAJkvVchGS7TOYds8xPgN7uJ643\n",
      "47. Student - Marketing  - sRsHBru6NjOeNPSKTl4Sd4BRYOP2\n",
      "48. auditor - information management  - tA5qNXXDctSoqUZ3H0kAMyIoBBY2\n",
      "49. Student - Information management , Ergonomics   - uH1zIWLCtqZE0N4o7Ll72ISAJYu2\n",
      "50.  - Software Development, transitioning to user experience design  - uyqyE4AvusMPYZQArTbkfmAhUhF3\n",
      "51. Student - Electrical engineering  - vUPUYi4YSMR7bVHWLpsDNteaXgV2\n",
      "52. 學生 - 人因工程  - xSY2Y9wB91glh5IVb3NWDZmQYAc2\n"
     ]
    }
   ],
   "source": [
    "oc_fs = []\n",
    "for p in data:\n",
    "  if 'general_data' in data[p]:\n",
    "    temp = data[p]['general_data']['about_the_participant']\n",
    "    \n",
    "    # dumb caluã had a typo in the code and now i can't change these documents @ firebase that\n",
    "    # have inconsistent single “c” in the name... and it's not all of them, so....    \n",
    "    if 'ocupation' in temp:\n",
    "      key_oc = 'ocupation'\n",
    "    else:\n",
    "      key_oc = 'occupation'\n",
    "      \n",
    "    s = \"\"\n",
    "\n",
    "    if temp[key_oc]:\n",
    "      s += temp[key_oc]\n",
    "      \n",
    "    if temp['field_of_study']:\n",
    "      s += f\" - {temp['field_of_study']}\"\n",
    "    \n",
    "    if s != '':\n",
    "      oc_fs.append(s + '  - ' + p)\n",
    "      \n",
    "for i in range(len(oc_fs)):\n",
    "  print(f\"{i}. {oc_fs[i]}\")"
   ]
  },
  {
   "cell_type": "markdown",
   "metadata": {},
   "source": [
    "# Occupation"
   ]
  },
  {
   "cell_type": "code",
   "execution_count": 8,
   "metadata": {},
   "outputs": [
    {
     "name": "stdout",
     "output_type": "stream",
     "text": [
      "0. Sales\n",
      "1. Student\n",
      "2. Student\n",
      "3. interpreter\n",
      "4. Student\n",
      "5. Teacher\n",
      "6. Student\n",
      "7. student\n",
      "8. Student\n",
      "9. Analytics Manager\n",
      "10. Engineer \n",
      "11. Business Analyst\n",
      "12. Student\n",
      "13. College student\n",
      "14. Student\n",
      "15. student\n",
      "16. Taiwan\n",
      "17. Programmer\n",
      "18. Software Engineer \n",
      "19. Freelancer\n",
      "20. Salesperson\n",
      "21. Student \n",
      "22. Product Designer\n",
      "23. Student\n",
      "24. Software developer\n",
      "25. Student\n",
      "26. student\n",
      "27. Student\n",
      "28. Student\n",
      "29. Cybersecurity Engineer\n",
      "30. Student\n",
      "31. HR Professional\n",
      "32. software engineer\n",
      "33. Student\n",
      "34. Student\n",
      "35. Student \n",
      "36. Student\n",
      "37. engineer \n",
      "38. IT coordinator\n",
      "39. Student\n",
      "40. Marketing\n",
      "41. Student\n",
      "42. Student\n",
      "43. 廚師\n",
      "44. Student \n",
      "45. student\n",
      "46. Student\n",
      "47. auditor\n",
      "48. Student\n",
      "49. Student\n",
      "50. 學生\n"
     ]
    }
   ],
   "source": [
    "oc = []\n",
    "for p in data:\n",
    "  if 'general_data' in data[p]:\n",
    "    temp = data[p]['general_data']['about_the_participant']\n",
    "    \n",
    "    # dumb caluã had a typo in the code and now i can't change these documents @ firebase that\n",
    "    # have inconsistent single “c” in the name... and it's not all of them, so....    \n",
    "    if 'ocupation' in temp:\n",
    "      key = 'ocupation'\n",
    "    else:\n",
    "      key = 'occupation'\n",
    "\n",
    "    if temp[key]:\n",
    "      oc.append(temp[key])\n",
    "      \n",
    "for i in range(len(oc)):\n",
    "  print(f\"{i}. {oc[i]}\")"
   ]
  },
  {
   "cell_type": "markdown",
   "metadata": {},
   "source": [
    "# Field of study"
   ]
  },
  {
   "cell_type": "code",
   "execution_count": 9,
   "metadata": {},
   "outputs": [
    {
     "name": "stdout",
     "output_type": "stream",
     "text": [
      "0. International Business\n",
      "1. Data Science\n",
      "2. Computer Science\n",
      "3. n/a\n",
      "4. Information Management\n",
      "5. Accounting and finance \n",
      "6. Business\n",
      "7. industrial engineering, human factor engineering \n",
      "8. Industrial management\n",
      "9. Chemistry\n",
      "10. Computer science \n",
      "11. Commerce\n",
      "12. Sustainable Engineering\n",
      "13. International Business \n",
      "14. Design\n",
      "15. MS in Management and Systems\n",
      "16. Chemistry\n",
      "17. Enterprise Cloud Sysmte\n",
      "18. Computer Science \n",
      "19. Information Management\n",
      "20. Foreign Language and Literature\n",
      "21. Computational Fluid Dynamics \n",
      "22. HCI\n",
      "23. Computer science, Data science\n",
      "24. Environmental Studies emphasis on toxicology.\n",
      "25. Computer Science\n",
      "26. Environmental Engineering\n",
      "27. design\n",
      "28. Industrial design\n",
      "29. Animation\n",
      "30. Computer science, Cybersecurity\n",
      "31. Computer science\n",
      "32. Learning & Development\n",
      "33. information technology\n",
      "34. Computer science\n",
      "35. Packaging Science\n",
      "36. Business analytics \n",
      "37. Computer Science\n",
      "38. Information management \n",
      "39. Information Managemrnt\n",
      "40. Computer science\n",
      "41. Multimedia, digital marketing\n",
      "42. Human-Computer Interation\n",
      "43. Human-Computer Interaction \n",
      "44. 健康風險管理\n",
      "45. Robotics\n",
      "46. Business, Information management\n",
      "47. Marketing\n",
      "48. information management\n",
      "49. Information management , Ergonomics \n",
      "50. Software Development, transitioning to user experience design\n",
      "51. Electrical engineering\n",
      "52. 人因工程\n"
     ]
    }
   ],
   "source": [
    "fs = []\n",
    "for p in data:\n",
    "  if 'general_data' in data[p]:\n",
    "    temp = data[p]['general_data']['about_the_participant']['field_of_study']\n",
    "    if temp:\n",
    "      fs.append(temp)\n",
    "      \n",
    "     \n",
    "for i in range(len(fs)):\n",
    "  print(f\"{i}. {fs[i]}\")"
   ]
  },
  {
   "cell_type": "markdown",
   "metadata": {},
   "source": [
    "# Education"
   ]
  },
  {
   "cell_type": "code",
   "execution_count": 10,
   "metadata": {},
   "outputs": [
    {
     "name": "stdout",
     "output_type": "stream",
     "text": [
      "{'Bachelor’s or equivalent level': 22, 'Master’s or equivalent level': 28, '學士或同等水平': 2, '碩士或同等水平': 1, '碩士或同等級別': 1}\n"
     ]
    }
   ],
   "source": [
    "ed = []\n",
    "for p in data:\n",
    "  if 'general_data' in data[p]:\n",
    "    temp = data[p]['general_data']['about_the_participant']['education']\n",
    "    if temp:\n",
    "      ed.append(temp)\n",
    "      \n",
    "fr_ed = count_frequency(ed)\n",
    "print(fr_ed)"
   ]
  },
  {
   "cell_type": "markdown",
   "metadata": {},
   "source": [
    "# Ages"
   ]
  },
  {
   "cell_type": "code",
   "execution_count": 11,
   "metadata": {},
   "outputs": [
    {
     "name": "stdout",
     "output_type": "stream",
     "text": [
      "{'25 to 34 years': 24, '18 to 24 years': 24, '35 to 44 years': 2, '18 至 24 歲': 3, '25 至 34 歲': 1}\n"
     ]
    }
   ],
   "source": [
    "ag = []\n",
    "for p in data:\n",
    "  if 'general_data' in data[p]:\n",
    "    temp = data[p]['general_data']['about_the_participant']['age_group']\n",
    "    if temp:\n",
    "      ag.append(temp)\n",
    "      \n",
    "fr_ag = count_frequency(ag)\n",
    "print(fr_ag)"
   ]
  },
  {
   "cell_type": "markdown",
   "metadata": {},
   "source": [
    "# Gender"
   ]
  },
  {
   "cell_type": "code",
   "execution_count": 12,
   "metadata": {},
   "outputs": [
    {
     "name": "stdout",
     "output_type": "stream",
     "text": [
      "{'Feminine': 25, 'Masculine': 24, '男性': 3, 'I’d rather not answer this': 1, '女性': 1}\n"
     ]
    }
   ],
   "source": [
    "ge = []\n",
    "for p in data:\n",
    "  if 'general_data' in data[p]:\n",
    "    temp = data[p]['general_data']['about_the_participant']['gender']\n",
    "    if temp:\n",
    "      ge.append(temp)\n",
    "      \n",
    "fr_ge = count_frequency(ge)\n",
    "print(fr_ge)"
   ]
  },
  {
   "cell_type": "markdown",
   "metadata": {},
   "source": [
    "# Do you agree that climate change is an important issue?"
   ]
  },
  {
   "cell_type": "code",
   "execution_count": 13,
   "metadata": {},
   "outputs": [
    {
     "name": "stdout",
     "output_type": "stream",
     "text": [
      "Strongly disagree: 2\n",
      "Disagree: 2\n",
      "Neutral: 1\n",
      "Agree: 17\n",
      "Strongly agree: 32\n"
     ]
    }
   ],
   "source": [
    "imp = []\n",
    "for p in data:\n",
    "  if 'general_data' in data[p]:\n",
    "    temp = data[p]['general_data']['about_the_participant']\n",
    "    if 'is_it_an_important_issue' in temp:\n",
    "      temp = temp['is_it_an_important_issue']\n",
    "      if temp:\n",
    "        imp.append(temp)\n",
    "      \n",
    "fr_imp = count_frequency(imp)\n",
    "print_scale(fr_imp, likert)"
   ]
  },
  {
   "cell_type": "markdown",
   "metadata": {},
   "source": [
    "# Do you agree that climate change will have negative effects on future          generations?"
   ]
  },
  {
   "cell_type": "code",
   "execution_count": 14,
   "metadata": {},
   "outputs": [
    {
     "name": "stdout",
     "output_type": "stream",
     "text": [
      "Strongly disagree: 2\n",
      "Disagree: 0\n",
      "Neutral: 0\n",
      "Agree: 27\n",
      "Strongly agree: 25\n"
     ]
    }
   ],
   "source": [
    "fut = []\n",
    "for p in data:\n",
    "  if 'general_data' in data[p]:\n",
    "    temp = data[p]['general_data']['about_the_participant']\n",
    "    if 'will_it_affect_future_generations' in temp:\n",
    "      temp = temp['will_it_affect_future_generations']\n",
    "      if temp:\n",
    "        fut.append(temp)\n",
    "      \n",
    "fr_fut = count_frequency(fut)\n",
    "print_scale(fr_fut, likert)"
   ]
  },
  {
   "cell_type": "markdown",
   "metadata": {},
   "source": [
    "# What do you think is the main cause of climate change?"
   ]
  },
  {
   "cell_type": "code",
   "execution_count": 15,
   "metadata": {},
   "outputs": [
    {
     "name": "stdout",
     "output_type": "stream",
     "text": [
      "Greenhouse gas emissions from coal-fired power plants: 19\n",
      "Greenhouse gas emissions from transportation and automobiles: 4\n",
      "Felling of trees in primary forests to release greenhouse gases stored in forests: 5\n",
      "Normal human activities, such as household energy use, meat consumption, etc.: 18\n",
      "This is a natural phenomenon that happens naturally: 4\n",
      "Other causes not listed: 4\n"
     ]
    }
   ],
   "source": [
    "cau = []\n",
    "for p in data:\n",
    "  if 'general_data' in data[p]:\n",
    "    temp = data[p]['general_data']['about_the_participant']\n",
    "    if 'what_is_it_main_cause' in temp:\n",
    "      temp = temp['what_is_it_main_cause']\n",
    "      if temp:\n",
    "        cau.append(temp)\n",
    "      \n",
    "fr_cau = count_frequency(cau)\n",
    "print_scale(fr_cau, causes)"
   ]
  },
  {
   "cell_type": "markdown",
   "metadata": {},
   "source": [
    "# What do you think is the best mitigation strategy to reduce the effects of climate change?"
   ]
  },
  {
   "cell_type": "code",
   "execution_count": 16,
   "metadata": {},
   "outputs": [
    {
     "name": "stdout",
     "output_type": "stream",
     "text": [
      "0. to not use air conditioner too much, take public transportations, changing to drive electric car\n",
      "\n",
      "1. Sustainable uses of resources\n",
      "\n",
      "2. Improvements in renewable energy generation power plants should help a great deal\n",
      "\n",
      "3. limit emissions of factories and industrial buildings\n",
      "\n",
      "4. Cut down human consumption \n",
      "\n",
      "5. Use recycled things\n",
      "\n",
      "6. Reduce the usage of  everything comes from factory\n",
      "\n",
      "7. Try to reduce anything we do that might cause greenhouse gas emissions. Also, governments need to strictly implement laws regarding environmental issues.\n",
      "\n",
      "8. Renewable energy and electrification of the world economy\n",
      "\n",
      "9. Humans all dies. \n",
      "\n",
      "10. Big companies and governments can change, nothing else \n",
      "\n",
      "11. Adopt nuclear power and renewable power.\n",
      "Control the population in the world.\n",
      "\n",
      "12. I think that everyone reduce the energy he/she use is the best mitigation strategy to reduce the effects of climate change.\n",
      "\n",
      "13. Less aircon\n",
      "\n",
      "14. kill all of the people, since people are the reason why the earth is dying, the best solution is to eliminate all humanities.\n",
      "\n",
      "15. I have no idea \n",
      "\n",
      "16. No worries on the climate change, but it’s good to stop ac\n",
      "\n",
      "17. Decrease greenhouse gas emissions from industrial activities\n",
      "\n",
      "18. Completely shifting our energy needs from Fossil fuels to Renewables, and reforestation.\n",
      "\n",
      "19. Of course we can all do our part on an every day basis, and we should, but organizations (companies, governments, etc) need to change the way they produce and ship products since they are doing it on mass, causing the largest effects on the climate over time. I think this needs to be a legal change, I don't think businesses will do it without it being a law. On a personal level I think recycling (coming up with better recycling programs), composting, buying less, driving less, and eating less meat would generally be some things we should all do if we aren't already. \n",
      "\n",
      "20. A large number of trees are being felled fast. Lead to no enough trees to deal with greenhouse gases.\n",
      "\n",
      "21. Limit population growth by taxing people with kids instead of giving them tax breaks, while giving those without kids tax breaks instead. Put an emphasis on renewable energies, but also transition over to nuclear to take the place of fossil fuels.\n",
      "\n",
      "22. I guess the most easier way is to initiate by self? \n",
      "Plastic-free.\n",
      "Plant if space is available. \n",
      "Stop printing, use read digital instead of paper.\n",
      "Taking public transportation if possible.\n",
      "Etc.\n",
      "\n",
      "\n",
      "23. Stop supporting the companies/ factories that are causing high gas emissions \n",
      "\n",
      "24. Using renewable energy, higher energy conversion efficiency technology.\n",
      "\n",
      "25. Stringent laws to limit fossil fuels utilized by industries, on a monthly or yearly basis \n",
      "\n",
      "26. Developing resources to scale up renewable energies and price out oil and gas in terms of efficiency\n",
      "\n",
      "27. Increased electrification (vehicles, heating, etc). Embrace nuclear power as an alternative to coal/natural gas. Invest in renewables like solar & coal, in addition to hydroelectric when appropriate. Invest in grid-level energy storage. Research and lower the cost of carbon capture. Governments should use taxation to incentivize reduction of C02 production. Increased research into meat alternatives, ideally getting them to the point where \"real\" meat is the more expensive option.\n",
      "\n",
      "28. Human extinction\n",
      "\n",
      "29. To change reliance to more renewable sources of energy and to find carbon neutral waste management mechanisms \n",
      "\n",
      "30. Monitoring of gas emissions should be taken up to a more serious level and limitations should be put in place wherever required. More and more trees should be planted and taken care of. Other than that, at a more personal level, priority should be given to public transportation wherever possible. \n",
      "\n",
      "31. Recycling \n",
      "\n",
      "32. expand the usage of eco-friendly furniture and vehicles.\n",
      "\n",
      "33. Curb companies, put in regulations, improvement in technology\n",
      "\n",
      "34. Producers reduce production. Consumers reduce consumption.\n",
      "\n",
      "35. Afforestation, use of catalytic concepts, renewable energy, nuclear energy\n",
      "\n",
      "36. Reduce the usage of power, such as electricy, natural gas, ...etc.\n",
      "\n",
      "37. Strict, worldwide regulations on polluting activities; financial incentives to improve clean alternatives and make them easily available to the general population\n",
      "\n",
      "38. 節能、減油等環保相關方式\n",
      "\n"
     ]
    }
   ],
   "source": [
    "mit = []\n",
    "for p in data:\n",
    "  if 'general_data' in data[p]:\n",
    "    temp = data[p]['general_data']['about_the_participant']\n",
    "    if 'suggested_strategies' in temp:\n",
    "      temp = temp['suggested_strategies']\n",
    "      if temp:\n",
    "        mit.append(temp)\n",
    "      \n",
    "for i in range(len(mit)):\n",
    "  print(f\"{i}. {mit[i]}\\n\")"
   ]
  },
  {
   "cell_type": "markdown",
   "metadata": {},
   "source": [
    "# Open-ended comments at the end"
   ]
  },
  {
   "cell_type": "code",
   "execution_count": 17,
   "metadata": {},
   "outputs": [
    {
     "name": "stdout",
     "output_type": "stream",
     "text": [
      "0. Raise Awareness on climate change is the most effective strategies.\n",
      "\n",
      "1. You have to balance impact and likelihood of success with all of these examples. Something that would reduce a lot of carbon emissions but would be impossible to implement is less of a priority than something that would be easy to implement but would have a lower overall impact.\n",
      "\n",
      "\n",
      "2. It’s a very important issue nowadays. Thanks for your research. \n",
      "\n",
      "3. The ultimate solution is to remove people from the earth, which is the most effective and efficient way to this issue.\n",
      "\n",
      "4. Nice questionnaire. I also learned something from it!\n",
      "\n",
      "5. The survey is a bit longer than I expected. 😅\n",
      "And the question is the same…\n",
      "Should tell before the game start, so wouldn’t spend more time GK differentiate every page.\n",
      "\n",
      "6. I think government policy will have a much bigger affect than any individual action.\n",
      "\n",
      "We should embrace nuclear as an alternative to coal & gas, in addition to renewables.\n",
      "\n",
      "\n",
      "Some industries will be difficult to de-carbonize, namely aviation, shipping, and concrete production (as far as I'm aware). Perhaps carbon capture can take care of the emissions from these industries while we work on de-carbonizing other areas\n",
      "\n",
      "7. great work!!!\n",
      "\n",
      "8. While every point made in this survey is important to reducing climate change effects, the reality is that only by financial incentives and legal means that we can convince mega corporations to change. Once pollution hits their bottom line, they will kick and scream and eventually drag themselves into the clean energy world if we don't give in.\n",
      "\n"
     ]
    }
   ],
   "source": [
    "ope = []\n",
    "for p in data:\n",
    "  if 'general_data' in data[p]:\n",
    "    temp = data[p]['general_data']['open_ended_answer']\n",
    "    if temp:\n",
    "      ope.append(temp)\n",
    "      \n",
    "for i in range(len(ope)):\n",
    "  print(f\"{i}. {ope[i]}\\n\")"
   ]
  }
 ],
 "metadata": {
  "kernelspec": {
   "display_name": "Python 3",
   "language": "python",
   "name": "python3"
  },
  "language_info": {
   "codemirror_mode": {
    "name": "ipython",
    "version": 3
   },
   "file_extension": ".py",
   "mimetype": "text/x-python",
   "name": "python",
   "nbconvert_exporter": "python",
   "pygments_lexer": "ipython3",
   "version": "3.6.2"
  }
 },
 "nbformat": 4,
 "nbformat_minor": 2
}
